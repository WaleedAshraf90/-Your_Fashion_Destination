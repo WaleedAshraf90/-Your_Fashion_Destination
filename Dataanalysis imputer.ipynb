{
 "cells": [
  {
   "cell_type": "markdown",
   "id": "1576ca04",
   "metadata": {},
   "source": [
    "## `Import Necessary Libraries`"
   ]
  },
  {
   "cell_type": "code",
   "execution_count": 1,
   "id": "1aee537a",
   "metadata": {},
   "outputs": [],
   "source": [
    "import pandas as pd\n",
    "import numpy as np\n",
    "import matplotlib.pyplot as plt\n",
    "import seaborn as sns\n",
    "from datetime import datetime\n",
    "import time\n",
    "import sqlite3\n",
    "\n",
    "sns.set(rc={'figure.figsize': [17, 17]}, font_scale=1.2)"
   ]
  },
  {
   "cell_type": "markdown",
   "id": "f8a5ae72",
   "metadata": {},
   "source": [
    "## `Load Data`"
   ]
  },
  {
   "cell_type": "code",
   "execution_count": 2,
   "id": "eef7cfd9",
   "metadata": {
    "scrolled": true
   },
   "outputs": [
    {
     "name": "stdout",
     "output_type": "stream",
     "text": [
      "(3050, 6)\n"
     ]
    },
    {
     "data": {
      "text/html": [
       "<div>\n",
       "<style scoped>\n",
       "    .dataframe tbody tr th:only-of-type {\n",
       "        vertical-align: middle;\n",
       "    }\n",
       "\n",
       "    .dataframe tbody tr th {\n",
       "        vertical-align: top;\n",
       "    }\n",
       "\n",
       "    .dataframe thead th {\n",
       "        text-align: right;\n",
       "    }\n",
       "</style>\n",
       "<table border=\"1\" class=\"dataframe\">\n",
       "  <thead>\n",
       "    <tr style=\"text-align: right;\">\n",
       "      <th></th>\n",
       "      <th>Product Designer</th>\n",
       "      <th>Product Name</th>\n",
       "      <th>Product Price</th>\n",
       "      <th>Product No</th>\n",
       "      <th>Product Discount</th>\n",
       "      <th>Product Features</th>\n",
       "    </tr>\n",
       "  </thead>\n",
       "  <tbody>\n",
       "    <tr>\n",
       "      <th>0</th>\n",
       "      <td>NaN</td>\n",
       "      <td>Dora linen minidress</td>\n",
       "      <td>€ 235</td>\n",
       "      <td>P00697841</td>\n",
       "      <td>10% off over €600</td>\n",
       "      <td>['material: 100% linen', 'care instructions: hand wash', 'side slit pockets', 'Made in the USA']</td>\n",
       "    </tr>\n",
       "    <tr>\n",
       "      <th>1</th>\n",
       "      <td>VINCE</td>\n",
       "      <td>High-rise cropped cotton-blend pants</td>\n",
       "      <td>€ 295</td>\n",
       "      <td>P00727516</td>\n",
       "      <td>10% off over €600</td>\n",
       "      <td>['material: 66% cotton, 31% viscose, 3% elastane', 'care instructions: hand wash', 'side slit pockets, faux pockets', 'zipper fly, button fastening']</td>\n",
       "    </tr>\n",
       "    <tr>\n",
       "      <th>2</th>\n",
       "      <td>FRAME</td>\n",
       "      <td>Le High cropped straight jeans</td>\n",
       "      <td>€ 199</td>\n",
       "      <td>P00683891</td>\n",
       "      <td>10% off over €600</td>\n",
       "      <td>['care instructions: machine wash cold', 'five pockets', 'zipper fly, button fastening', 'Made in Turkey']</td>\n",
       "    </tr>\n",
       "    <tr>\n",
       "      <th>3</th>\n",
       "      <td>JARDIN DES ORANGERS</td>\n",
       "      <td>Wool and cashmere sweater midi dress</td>\n",
       "      <td>€ 339</td>\n",
       "      <td>P00718713</td>\n",
       "      <td>NaN</td>\n",
       "      <td>['material: 70% virgin wool, 30% cashmere', 'care instructions: hand wash', 'Made in China', 'Designer colour name: 225-41']</td>\n",
       "    </tr>\n",
       "    <tr>\n",
       "      <th>4</th>\n",
       "      <td>SAINT LAURENT</td>\n",
       "      <td>Embellished satin gown</td>\n",
       "      <td>€ 2,935</td>\n",
       "      <td>P00728419</td>\n",
       "      <td>NaN</td>\n",
       "      <td>['material: 100% viscose', 'material II: 65% viscose, 35% cupro', 'material III: 100% silk', 'care instructions: dry clean']</td>\n",
       "    </tr>\n",
       "  </tbody>\n",
       "</table>\n",
       "</div>"
      ],
      "text/plain": [
       "      Product Designer                          Product Name Product Price  \\\n",
       "0                  NaN                  Dora linen minidress         € 235   \n",
       "1                VINCE  High-rise cropped cotton-blend pants         € 295   \n",
       "2                FRAME        Le High cropped straight jeans         € 199   \n",
       "3  JARDIN DES ORANGERS  Wool and cashmere sweater midi dress         € 339   \n",
       "4        SAINT LAURENT                Embellished satin gown       € 2,935   \n",
       "\n",
       "  Product No   Product Discount  \\\n",
       "0  P00697841  10% off over €600   \n",
       "1  P00727516  10% off over €600   \n",
       "2  P00683891  10% off over €600   \n",
       "3  P00718713                NaN   \n",
       "4  P00728419                NaN   \n",
       "\n",
       "                                                                                                                                        Product Features  \n",
       "0                                                       ['material: 100% linen', 'care instructions: hand wash', 'side slit pockets', 'Made in the USA']  \n",
       "1  ['material: 66% cotton, 31% viscose, 3% elastane', 'care instructions: hand wash', 'side slit pockets, faux pockets', 'zipper fly, button fastening']  \n",
       "2                                             ['care instructions: machine wash cold', 'five pockets', 'zipper fly, button fastening', 'Made in Turkey']  \n",
       "3                           ['material: 70% virgin wool, 30% cashmere', 'care instructions: hand wash', 'Made in China', 'Designer colour name: 225-41']  \n",
       "4                           ['material: 100% viscose', 'material II: 65% viscose, 35% cupro', 'material III: 100% silk', 'care instructions: dry clean']  "
      ]
     },
     "metadata": {},
     "output_type": "display_data"
    }
   ],
   "source": [
    "df1= pd.read_csv('Clothes.csv')\n",
    "print(df1.shape)\n",
    "\n",
    "with pd.option_context('display.max_colwidth', None):\n",
    "    display(df1.head())"
   ]
  },
  {
   "cell_type": "markdown",
   "id": "39a43c82",
   "metadata": {},
   "source": [
    "## `Exploratory Data Analysis - EDA` & `Feature Engineering`"
   ]
  },
  {
   "cell_type": "code",
   "execution_count": 3,
   "id": "205feda8",
   "metadata": {},
   "outputs": [
    {
     "data": {
      "text/html": [
       "<div>\n",
       "<style scoped>\n",
       "    .dataframe tbody tr th:only-of-type {\n",
       "        vertical-align: middle;\n",
       "    }\n",
       "\n",
       "    .dataframe tbody tr th {\n",
       "        vertical-align: top;\n",
       "    }\n",
       "\n",
       "    .dataframe thead th {\n",
       "        text-align: right;\n",
       "    }\n",
       "</style>\n",
       "<table border=\"1\" class=\"dataframe\">\n",
       "  <thead>\n",
       "    <tr style=\"text-align: right;\">\n",
       "      <th></th>\n",
       "      <th>Product Features</th>\n",
       "    </tr>\n",
       "  </thead>\n",
       "  <tbody>\n",
       "    <tr>\n",
       "      <th>0</th>\n",
       "      <td>[material: 100% linen, care instructions: hand...</td>\n",
       "    </tr>\n",
       "    <tr>\n",
       "      <th>1</th>\n",
       "      <td>[material: 66% cotton, 31% viscose, 3% elastan...</td>\n",
       "    </tr>\n",
       "    <tr>\n",
       "      <th>2</th>\n",
       "      <td>[care instructions: machine wash cold, five po...</td>\n",
       "    </tr>\n",
       "    <tr>\n",
       "      <th>3</th>\n",
       "      <td>[material: 70% virgin wool, 30% cashmere, care...</td>\n",
       "    </tr>\n",
       "    <tr>\n",
       "      <th>4</th>\n",
       "      <td>[material: 100% viscose, material II: 65% visc...</td>\n",
       "    </tr>\n",
       "    <tr>\n",
       "      <th>...</th>\n",
       "      <td>...</td>\n",
       "    </tr>\n",
       "    <tr>\n",
       "      <th>3045</th>\n",
       "      <td>[material: 100% cotton, filling: 100% polyeste...</td>\n",
       "    </tr>\n",
       "    <tr>\n",
       "      <th>3046</th>\n",
       "      <td>[material: 82% triacetate, 18% polyester, care...</td>\n",
       "    </tr>\n",
       "    <tr>\n",
       "      <th>3047</th>\n",
       "      <td>[material: 100% wool, care instructions: dry c...</td>\n",
       "    </tr>\n",
       "    <tr>\n",
       "      <th>3048</th>\n",
       "      <td>[material: 99% organic cotton, 1% elastane, ca...</td>\n",
       "    </tr>\n",
       "    <tr>\n",
       "      <th>3049</th>\n",
       "      <td>[material: 72% polyamide, 28% elastane, materi...</td>\n",
       "    </tr>\n",
       "  </tbody>\n",
       "</table>\n",
       "<p>3050 rows × 1 columns</p>\n",
       "</div>"
      ],
      "text/plain": [
       "                                       Product Features\n",
       "0     [material: 100% linen, care instructions: hand...\n",
       "1     [material: 66% cotton, 31% viscose, 3% elastan...\n",
       "2     [care instructions: machine wash cold, five po...\n",
       "3     [material: 70% virgin wool, 30% cashmere, care...\n",
       "4     [material: 100% viscose, material II: 65% visc...\n",
       "...                                                 ...\n",
       "3045  [material: 100% cotton, filling: 100% polyeste...\n",
       "3046  [material: 82% triacetate, 18% polyester, care...\n",
       "3047  [material: 100% wool, care instructions: dry c...\n",
       "3048  [material: 99% organic cotton, 1% elastane, ca...\n",
       "3049  [material: 72% polyamide, 28% elastane, materi...\n",
       "\n",
       "[3050 rows x 1 columns]"
      ]
     },
     "execution_count": 3,
     "metadata": {},
     "output_type": "execute_result"
    }
   ],
   "source": [
    "import ast\n",
    "\n",
    "output= df1['Product Features'].map(lambda x: ast.literal_eval(x))\n",
    "data= pd.DataFrame(output)\n",
    "data"
   ]
  },
  {
   "cell_type": "code",
   "execution_count": 4,
   "id": "b462fb11",
   "metadata": {},
   "outputs": [
    {
     "data": {
      "text/html": [
       "<div>\n",
       "<style scoped>\n",
       "    .dataframe tbody tr th:only-of-type {\n",
       "        vertical-align: middle;\n",
       "    }\n",
       "\n",
       "    .dataframe tbody tr th {\n",
       "        vertical-align: top;\n",
       "    }\n",
       "\n",
       "    .dataframe thead th {\n",
       "        text-align: right;\n",
       "    }\n",
       "</style>\n",
       "<table border=\"1\" class=\"dataframe\">\n",
       "  <thead>\n",
       "    <tr style=\"text-align: right;\">\n",
       "      <th></th>\n",
       "      <th>Product Designer</th>\n",
       "      <th>Product Name</th>\n",
       "      <th>Product Price</th>\n",
       "      <th>Product No</th>\n",
       "      <th>Product Discount</th>\n",
       "    </tr>\n",
       "  </thead>\n",
       "  <tbody>\n",
       "    <tr>\n",
       "      <th>0</th>\n",
       "      <td>NaN</td>\n",
       "      <td>Dora linen minidress</td>\n",
       "      <td>€ 235</td>\n",
       "      <td>P00697841</td>\n",
       "      <td>10% off over €600</td>\n",
       "    </tr>\n",
       "    <tr>\n",
       "      <th>1</th>\n",
       "      <td>VINCE</td>\n",
       "      <td>High-rise cropped cotton-blend pants</td>\n",
       "      <td>€ 295</td>\n",
       "      <td>P00727516</td>\n",
       "      <td>10% off over €600</td>\n",
       "    </tr>\n",
       "    <tr>\n",
       "      <th>2</th>\n",
       "      <td>FRAME</td>\n",
       "      <td>Le High cropped straight jeans</td>\n",
       "      <td>€ 199</td>\n",
       "      <td>P00683891</td>\n",
       "      <td>10% off over €600</td>\n",
       "    </tr>\n",
       "    <tr>\n",
       "      <th>3</th>\n",
       "      <td>JARDIN DES ORANGERS</td>\n",
       "      <td>Wool and cashmere sweater midi dress</td>\n",
       "      <td>€ 339</td>\n",
       "      <td>P00718713</td>\n",
       "      <td>NaN</td>\n",
       "    </tr>\n",
       "    <tr>\n",
       "      <th>4</th>\n",
       "      <td>SAINT LAURENT</td>\n",
       "      <td>Embellished satin gown</td>\n",
       "      <td>€ 2,935</td>\n",
       "      <td>P00728419</td>\n",
       "      <td>NaN</td>\n",
       "    </tr>\n",
       "    <tr>\n",
       "      <th>...</th>\n",
       "      <td>...</td>\n",
       "      <td>...</td>\n",
       "      <td>...</td>\n",
       "      <td>...</td>\n",
       "      <td>...</td>\n",
       "    </tr>\n",
       "    <tr>\n",
       "      <th>3045</th>\n",
       "      <td>LORO PIANA</td>\n",
       "      <td>Loran corduroy shirt jacket</td>\n",
       "      <td>€ 2,439</td>\n",
       "      <td>P00703567</td>\n",
       "      <td>NaN</td>\n",
       "    </tr>\n",
       "    <tr>\n",
       "      <th>3046</th>\n",
       "      <td>ALEX PERRY</td>\n",
       "      <td>Wilde satin crêpe midi dress</td>\n",
       "      <td>€ 1,429</td>\n",
       "      <td>P00704311</td>\n",
       "      <td>NaN</td>\n",
       "    </tr>\n",
       "    <tr>\n",
       "      <th>3047</th>\n",
       "      <td>JW ANDERSON</td>\n",
       "      <td>Logo intarsia wool hoodie</td>\n",
       "      <td>€ 635</td>\n",
       "      <td>P00701605</td>\n",
       "      <td>NaN</td>\n",
       "    </tr>\n",
       "    <tr>\n",
       "      <th>3048</th>\n",
       "      <td>AG JEANS</td>\n",
       "      <td>Girlfriend mid-rise cropped jeans</td>\n",
       "      <td>€ 195</td>\n",
       "      <td>P00683515</td>\n",
       "      <td>10% off over €600</td>\n",
       "    </tr>\n",
       "    <tr>\n",
       "      <th>3049</th>\n",
       "      <td>THE UPSIDE</td>\n",
       "      <td>Delmira mid-rise cropped leggings</td>\n",
       "      <td>€ 85</td>\n",
       "      <td>P00700213</td>\n",
       "      <td>10% off over €600</td>\n",
       "    </tr>\n",
       "  </tbody>\n",
       "</table>\n",
       "<p>3050 rows × 5 columns</p>\n",
       "</div>"
      ],
      "text/plain": [
       "         Product Designer                          Product Name Product Price  \\\n",
       "0                     NaN                  Dora linen minidress         € 235   \n",
       "1                   VINCE  High-rise cropped cotton-blend pants         € 295   \n",
       "2                   FRAME        Le High cropped straight jeans         € 199   \n",
       "3     JARDIN DES ORANGERS  Wool and cashmere sweater midi dress         € 339   \n",
       "4           SAINT LAURENT                Embellished satin gown       € 2,935   \n",
       "...                   ...                                   ...           ...   \n",
       "3045           LORO PIANA           Loran corduroy shirt jacket       € 2,439   \n",
       "3046           ALEX PERRY          Wilde satin crêpe midi dress       € 1,429   \n",
       "3047          JW ANDERSON             Logo intarsia wool hoodie         € 635   \n",
       "3048             AG JEANS     Girlfriend mid-rise cropped jeans         € 195   \n",
       "3049           THE UPSIDE     Delmira mid-rise cropped leggings          € 85   \n",
       "\n",
       "     Product No   Product Discount  \n",
       "0     P00697841  10% off over €600  \n",
       "1     P00727516  10% off over €600  \n",
       "2     P00683891  10% off over €600  \n",
       "3     P00718713                NaN  \n",
       "4     P00728419                NaN  \n",
       "...         ...                ...  \n",
       "3045  P00703567                NaN  \n",
       "3046  P00704311                NaN  \n",
       "3047  P00701605                NaN  \n",
       "3048  P00683515  10% off over €600  \n",
       "3049  P00700213  10% off over €600  \n",
       "\n",
       "[3050 rows x 5 columns]"
      ]
     },
     "execution_count": 4,
     "metadata": {},
     "output_type": "execute_result"
    }
   ],
   "source": [
    "all_data= pd.concat([df1.iloc[:, :-1], data], axis= 1)\n",
    "all_data\n",
    "all_data.drop('Product Features', axis= 1, inplace= True)\n",
    "all_data"
   ]
  },
  {
   "cell_type": "code",
   "execution_count": 5,
   "id": "7d8eb270",
   "metadata": {},
   "outputs": [
    {
     "name": "stdout",
     "output_type": "stream",
     "text": [
      "3050 \n",
      "\n",
      "3050 \n",
      "\n",
      "3050 \n",
      "\n",
      "3050 \n",
      "\n",
      "3050 \n",
      "\n"
     ]
    }
   ],
   "source": [
    "import numpy as np\n",
    "l= ['material', 'lining', 'care instructions', 'Made in', 'Designer colour name']\n",
    "\n",
    "Material= []\n",
    "Lining= []\n",
    "Care_Instructions= []\n",
    "Manufacturing_Country= []\n",
    "Colour= []\n",
    "\n",
    "for i in l:\n",
    "    for j in range(len(data)):\n",
    "        if i == 'material':\n",
    "            material_filter= list( filter(lambda x: (i in x), data['Product Features'][j]) )\n",
    "            Material.append(material_filter)\n",
    "            \n",
    "        elif i == 'lining':\n",
    "            lining_filter= list( filter(lambda x: (i in x), data['Product Features'][j]) )\n",
    "            Lining.append(lining_filter)\n",
    "        \n",
    "        elif i == 'care instructions':\n",
    "            care_instructions_filter= list( filter(lambda x: (i in x), data['Product Features'][j]) )\n",
    "            Care_Instructions.append(care_instructions_filter)\n",
    "        \n",
    "        elif i == 'Made in':\n",
    "            manufacturing_country_filter= list( filter(lambda x: (i in x), data['Product Features'][j]) )\n",
    "            Manufacturing_Country.append(manufacturing_country_filter)\n",
    "        \n",
    "        elif i == 'Designer colour name':\n",
    "            colour_filter= list( filter(lambda x: (i in x), data['Product Features'][j]) )\n",
    "            Colour.append(colour_filter)\n",
    "        \n",
    "print(len(Material), '\\n')\n",
    "print(len(Lining), '\\n')\n",
    "print(len(Care_Instructions), '\\n')\n",
    "print(len(Manufacturing_Country), '\\n')\n",
    "print(len(Colour), '\\n')"
   ]
  },
  {
   "cell_type": "code",
   "execution_count": 6,
   "id": "b970244e",
   "metadata": {},
   "outputs": [],
   "source": [
    "Material_lst= []\n",
    "Lining_lst= []\n",
    "Care_Instructions_lst= []\n",
    "Manufacturing_Country_lst= []\n",
    "Colour_lst= []\n",
    "\n",
    "for i in Material:\n",
    "    if len(i)>0:\n",
    "        Material_lst.append(', '.join(i).split(':')[1].strip())\n",
    "    else:\n",
    "        Material_lst.append(np.nan)\n",
    "\n",
    "for i in Lining:\n",
    "    if len(i)>0:\n",
    "        Lining_lst.append(', '.join(i).split(':')[1].strip())\n",
    "    else:\n",
    "        Lining_lst.append(np.nan)\n",
    "    \n",
    "for i in Care_Instructions:\n",
    "    if len(i)>0:\n",
    "        Care_Instructions_lst.append(', '.join(i).split(':')[1].strip())\n",
    "    else:\n",
    "        Care_Instructions_lst.append(np.nan)\n",
    "\n",
    "for i in Manufacturing_Country:\n",
    "    if len(i)>0:\n",
    "        Manufacturing_Country_lst.append(', '.join(i).split(' ')[-1].strip())\n",
    "    else:\n",
    "        Manufacturing_Country_lst.append(np.nan)\n",
    "        \n",
    "for i in Colour:\n",
    "    if len(i)>0:\n",
    "        Colour_lst.append(', '.join(i).split(':')[1].strip())\n",
    "    else:\n",
    "        Colour_lst.append(np.nan)"
   ]
  },
  {
   "cell_type": "code",
   "execution_count": 7,
   "id": "4b9f5c8e",
   "metadata": {},
   "outputs": [],
   "source": [
    "data['Product Material']= Material_lst\n",
    "data['Product Lining']= Lining_lst\n",
    "data['Product Care Instructions']= Care_Instructions_lst\n",
    "data['Product Manufacturing Country']= Manufacturing_Country_lst\n",
    "data['Product Colour']= Colour_lst"
   ]
  },
  {
   "cell_type": "code",
   "execution_count": 8,
   "id": "feefea85",
   "metadata": {},
   "outputs": [
    {
     "data": {
      "text/html": [
       "<div>\n",
       "<style scoped>\n",
       "    .dataframe tbody tr th:only-of-type {\n",
       "        vertical-align: middle;\n",
       "    }\n",
       "\n",
       "    .dataframe tbody tr th {\n",
       "        vertical-align: top;\n",
       "    }\n",
       "\n",
       "    .dataframe thead th {\n",
       "        text-align: right;\n",
       "    }\n",
       "</style>\n",
       "<table border=\"1\" class=\"dataframe\">\n",
       "  <thead>\n",
       "    <tr style=\"text-align: right;\">\n",
       "      <th></th>\n",
       "      <th>Product Designer</th>\n",
       "      <th>Product Name</th>\n",
       "      <th>Product Price</th>\n",
       "      <th>Product No</th>\n",
       "      <th>Product Discount</th>\n",
       "      <th>Product Material</th>\n",
       "      <th>Product Lining</th>\n",
       "      <th>Product Care Instructions</th>\n",
       "      <th>Product Manufacturing Country</th>\n",
       "      <th>Product Colour</th>\n",
       "    </tr>\n",
       "  </thead>\n",
       "  <tbody>\n",
       "    <tr>\n",
       "      <th>0</th>\n",
       "      <td>NaN</td>\n",
       "      <td>Dora linen minidress</td>\n",
       "      <td>€ 235</td>\n",
       "      <td>P00697841</td>\n",
       "      <td>10% off over €600</td>\n",
       "      <td>100% linen</td>\n",
       "      <td>NaN</td>\n",
       "      <td>hand wash</td>\n",
       "      <td>USA</td>\n",
       "      <td>NaN</td>\n",
       "    </tr>\n",
       "    <tr>\n",
       "      <th>1</th>\n",
       "      <td>VINCE</td>\n",
       "      <td>High-rise cropped cotton-blend pants</td>\n",
       "      <td>€ 295</td>\n",
       "      <td>P00727516</td>\n",
       "      <td>10% off over €600</td>\n",
       "      <td>66% cotton, 31% viscose, 3% elastane</td>\n",
       "      <td>NaN</td>\n",
       "      <td>hand wash</td>\n",
       "      <td>NaN</td>\n",
       "      <td>NaN</td>\n",
       "    </tr>\n",
       "    <tr>\n",
       "      <th>2</th>\n",
       "      <td>FRAME</td>\n",
       "      <td>Le High cropped straight jeans</td>\n",
       "      <td>€ 199</td>\n",
       "      <td>P00683891</td>\n",
       "      <td>10% off over €600</td>\n",
       "      <td>NaN</td>\n",
       "      <td>NaN</td>\n",
       "      <td>machine wash cold</td>\n",
       "      <td>Turkey</td>\n",
       "      <td>NaN</td>\n",
       "    </tr>\n",
       "    <tr>\n",
       "      <th>3</th>\n",
       "      <td>JARDIN DES ORANGERS</td>\n",
       "      <td>Wool and cashmere sweater midi dress</td>\n",
       "      <td>€ 339</td>\n",
       "      <td>P00718713</td>\n",
       "      <td>NaN</td>\n",
       "      <td>70% virgin wool, 30% cashmere</td>\n",
       "      <td>NaN</td>\n",
       "      <td>hand wash</td>\n",
       "      <td>China</td>\n",
       "      <td>225-41</td>\n",
       "    </tr>\n",
       "    <tr>\n",
       "      <th>4</th>\n",
       "      <td>SAINT LAURENT</td>\n",
       "      <td>Embellished satin gown</td>\n",
       "      <td>€ 2,935</td>\n",
       "      <td>P00728419</td>\n",
       "      <td>NaN</td>\n",
       "      <td>100% viscose, material II</td>\n",
       "      <td>NaN</td>\n",
       "      <td>dry clean</td>\n",
       "      <td>NaN</td>\n",
       "      <td>NaN</td>\n",
       "    </tr>\n",
       "    <tr>\n",
       "      <th>...</th>\n",
       "      <td>...</td>\n",
       "      <td>...</td>\n",
       "      <td>...</td>\n",
       "      <td>...</td>\n",
       "      <td>...</td>\n",
       "      <td>...</td>\n",
       "      <td>...</td>\n",
       "      <td>...</td>\n",
       "      <td>...</td>\n",
       "      <td>...</td>\n",
       "    </tr>\n",
       "    <tr>\n",
       "      <th>3045</th>\n",
       "      <td>LORO PIANA</td>\n",
       "      <td>Loran corduroy shirt jacket</td>\n",
       "      <td>€ 2,439</td>\n",
       "      <td>P00703567</td>\n",
       "      <td>NaN</td>\n",
       "      <td>100% cotton</td>\n",
       "      <td>100% cashmere, fully lined</td>\n",
       "      <td>NaN</td>\n",
       "      <td>NaN</td>\n",
       "      <td>NaN</td>\n",
       "    </tr>\n",
       "    <tr>\n",
       "      <th>3046</th>\n",
       "      <td>ALEX PERRY</td>\n",
       "      <td>Wilde satin crêpe midi dress</td>\n",
       "      <td>€ 1,429</td>\n",
       "      <td>P00704311</td>\n",
       "      <td>NaN</td>\n",
       "      <td>82% triacetate, 18% polyester</td>\n",
       "      <td>NaN</td>\n",
       "      <td>dry clean</td>\n",
       "      <td>China</td>\n",
       "      <td>NaN</td>\n",
       "    </tr>\n",
       "    <tr>\n",
       "      <th>3047</th>\n",
       "      <td>JW ANDERSON</td>\n",
       "      <td>Logo intarsia wool hoodie</td>\n",
       "      <td>€ 635</td>\n",
       "      <td>P00701605</td>\n",
       "      <td>NaN</td>\n",
       "      <td>100% wool</td>\n",
       "      <td>NaN</td>\n",
       "      <td>dry clean</td>\n",
       "      <td>China</td>\n",
       "      <td>NaN</td>\n",
       "    </tr>\n",
       "    <tr>\n",
       "      <th>3048</th>\n",
       "      <td>AG JEANS</td>\n",
       "      <td>Girlfriend mid-rise cropped jeans</td>\n",
       "      <td>€ 195</td>\n",
       "      <td>P00683515</td>\n",
       "      <td>10% off over €600</td>\n",
       "      <td>99% organic cotton, 1% elastane</td>\n",
       "      <td>NaN</td>\n",
       "      <td>machine wash at 30 degrees</td>\n",
       "      <td>NaN</td>\n",
       "      <td>NaN</td>\n",
       "    </tr>\n",
       "    <tr>\n",
       "      <th>3049</th>\n",
       "      <td>THE UPSIDE</td>\n",
       "      <td>Delmira mid-rise cropped leggings</td>\n",
       "      <td>€ 85</td>\n",
       "      <td>P00700213</td>\n",
       "      <td>10% off over €600</td>\n",
       "      <td>72% polyamide, 28% elastane, material II</td>\n",
       "      <td>NaN</td>\n",
       "      <td>machine wash cold</td>\n",
       "      <td>NaN</td>\n",
       "      <td>NaN</td>\n",
       "    </tr>\n",
       "  </tbody>\n",
       "</table>\n",
       "<p>3050 rows × 10 columns</p>\n",
       "</div>"
      ],
      "text/plain": [
       "         Product Designer                          Product Name Product Price  \\\n",
       "0                     NaN                  Dora linen minidress         € 235   \n",
       "1                   VINCE  High-rise cropped cotton-blend pants         € 295   \n",
       "2                   FRAME        Le High cropped straight jeans         € 199   \n",
       "3     JARDIN DES ORANGERS  Wool and cashmere sweater midi dress         € 339   \n",
       "4           SAINT LAURENT                Embellished satin gown       € 2,935   \n",
       "...                   ...                                   ...           ...   \n",
       "3045           LORO PIANA           Loran corduroy shirt jacket       € 2,439   \n",
       "3046           ALEX PERRY          Wilde satin crêpe midi dress       € 1,429   \n",
       "3047          JW ANDERSON             Logo intarsia wool hoodie         € 635   \n",
       "3048             AG JEANS     Girlfriend mid-rise cropped jeans         € 195   \n",
       "3049           THE UPSIDE     Delmira mid-rise cropped leggings          € 85   \n",
       "\n",
       "     Product No   Product Discount                          Product Material  \\\n",
       "0     P00697841  10% off over €600                                100% linen   \n",
       "1     P00727516  10% off over €600      66% cotton, 31% viscose, 3% elastane   \n",
       "2     P00683891  10% off over €600                                       NaN   \n",
       "3     P00718713                NaN             70% virgin wool, 30% cashmere   \n",
       "4     P00728419                NaN                 100% viscose, material II   \n",
       "...         ...                ...                                       ...   \n",
       "3045  P00703567                NaN                               100% cotton   \n",
       "3046  P00704311                NaN             82% triacetate, 18% polyester   \n",
       "3047  P00701605                NaN                                 100% wool   \n",
       "3048  P00683515  10% off over €600           99% organic cotton, 1% elastane   \n",
       "3049  P00700213  10% off over €600  72% polyamide, 28% elastane, material II   \n",
       "\n",
       "                  Product Lining   Product Care Instructions  \\\n",
       "0                            NaN                   hand wash   \n",
       "1                            NaN                   hand wash   \n",
       "2                            NaN           machine wash cold   \n",
       "3                            NaN                   hand wash   \n",
       "4                            NaN                   dry clean   \n",
       "...                          ...                         ...   \n",
       "3045  100% cashmere, fully lined                         NaN   \n",
       "3046                         NaN                   dry clean   \n",
       "3047                         NaN                   dry clean   \n",
       "3048                         NaN  machine wash at 30 degrees   \n",
       "3049                         NaN           machine wash cold   \n",
       "\n",
       "     Product Manufacturing Country Product Colour  \n",
       "0                              USA            NaN  \n",
       "1                              NaN            NaN  \n",
       "2                           Turkey            NaN  \n",
       "3                            China         225-41  \n",
       "4                              NaN            NaN  \n",
       "...                            ...            ...  \n",
       "3045                           NaN            NaN  \n",
       "3046                         China            NaN  \n",
       "3047                         China            NaN  \n",
       "3048                           NaN            NaN  \n",
       "3049                           NaN            NaN  \n",
       "\n",
       "[3050 rows x 10 columns]"
      ]
     },
     "execution_count": 8,
     "metadata": {},
     "output_type": "execute_result"
    }
   ],
   "source": [
    "all_data= pd.concat([df1.iloc[:, :-1], data], axis= 1)\n",
    "all_data\n",
    "all_data.drop('Product Features', axis= 1, inplace= True)\n",
    "all_data"
   ]
  },
  {
   "cell_type": "markdown",
   "id": "de3a91ff",
   "metadata": {},
   "source": [
    "## `Data Analysis`"
   ]
  },
  {
   "cell_type": "code",
   "execution_count": 9,
   "id": "f3d1418f",
   "metadata": {},
   "outputs": [
    {
     "data": {
      "text/plain": [
       "Product Designer                  0.721311\n",
       "Product Name                      0.524590\n",
       "Product Price                     0.524590\n",
       "Product No                        0.524590\n",
       "Product Discount                 51.803279\n",
       "Product Material                  4.524590\n",
       "Product Lining                   69.967213\n",
       "Product Care Instructions        11.606557\n",
       "Product Manufacturing Country    50.622951\n",
       "Product Colour                   81.540984\n",
       "dtype: float64"
      ]
     },
     "execution_count": 9,
     "metadata": {},
     "output_type": "execute_result"
    }
   ],
   "source": [
    "all_data.isnull().sum() * 100 / 3050"
   ]
  },
  {
   "cell_type": "code",
   "execution_count": 10,
   "id": "56a24e0b",
   "metadata": {},
   "outputs": [
    {
     "name": "stdout",
     "output_type": "stream",
     "text": [
      "<class 'pandas.core.frame.DataFrame'>\n",
      "RangeIndex: 3050 entries, 0 to 3049\n",
      "Data columns (total 10 columns):\n",
      " #   Column                         Non-Null Count  Dtype \n",
      "---  ------                         --------------  ----- \n",
      " 0   Product Designer               3028 non-null   object\n",
      " 1   Product Name                   3034 non-null   object\n",
      " 2   Product Price                  3034 non-null   object\n",
      " 3   Product No                     3034 non-null   object\n",
      " 4   Product Discount               1470 non-null   object\n",
      " 5   Product Material               2912 non-null   object\n",
      " 6   Product Lining                 916 non-null    object\n",
      " 7   Product Care Instructions      2696 non-null   object\n",
      " 8   Product Manufacturing Country  1506 non-null   object\n",
      " 9   Product Colour                 563 non-null    object\n",
      "dtypes: object(10)\n",
      "memory usage: 238.4+ KB\n"
     ]
    }
   ],
   "source": [
    "all_data.info()"
   ]
  },
  {
   "cell_type": "code",
   "execution_count": 11,
   "id": "d167e853",
   "metadata": {},
   "outputs": [],
   "source": [
    "def fixed_price1(z):\n",
    "    try:\n",
    "        return float(z.split(' ')[1])\n",
    "    except:\n",
    "         return np.nan\n",
    "all_data['Product Price']=all_data['Product Price'].apply(fixed_price1)   "
   ]
  },
  {
   "cell_type": "code",
   "execution_count": null,
   "id": "0327da6a",
   "metadata": {},
   "outputs": [],
   "source": []
  },
  {
   "cell_type": "code",
   "execution_count": 12,
   "id": "e8b40b3e",
   "metadata": {},
   "outputs": [
    {
     "name": "stdout",
     "output_type": "stream",
     "text": [
      "<class 'pandas.core.frame.DataFrame'>\n",
      "RangeIndex: 3050 entries, 0 to 3049\n",
      "Data columns (total 10 columns):\n",
      " #   Column                         Non-Null Count  Dtype  \n",
      "---  ------                         --------------  -----  \n",
      " 0   Product Designer               3028 non-null   object \n",
      " 1   Product Name                   3034 non-null   object \n",
      " 2   Product Price                  2375 non-null   float64\n",
      " 3   Product No                     3034 non-null   object \n",
      " 4   Product Discount               1470 non-null   object \n",
      " 5   Product Material               2912 non-null   object \n",
      " 6   Product Lining                 916 non-null    object \n",
      " 7   Product Care Instructions      2696 non-null   object \n",
      " 8   Product Manufacturing Country  1506 non-null   object \n",
      " 9   Product Colour                 563 non-null    object \n",
      "dtypes: float64(1), object(9)\n",
      "memory usage: 238.4+ KB\n"
     ]
    }
   ],
   "source": [
    "all_data.info()"
   ]
  },
  {
   "cell_type": "code",
   "execution_count": 13,
   "id": "5ea43a5f",
   "metadata": {},
   "outputs": [
    {
     "data": {
      "text/plain": [
       "array(['VINCE'], dtype=object)"
      ]
     },
     "execution_count": 13,
     "metadata": {},
     "output_type": "execute_result"
    }
   ],
   "source": [
    "from sklearn.impute import SimpleImputer\n",
    "impute=SimpleImputer(strategy='most_frequent')\n",
    "all_data['Product Designer']=impute.fit_transform(all_data[['Product Designer']])\n",
    "impute.statistics_"
   ]
  },
  {
   "cell_type": "code",
   "execution_count": 14,
   "id": "566c4133",
   "metadata": {},
   "outputs": [
    {
     "data": {
      "text/plain": [
       "array(['Cashmere sweater'], dtype=object)"
      ]
     },
     "execution_count": 14,
     "metadata": {},
     "output_type": "execute_result"
    }
   ],
   "source": [
    "from sklearn.impute import SimpleImputer\n",
    "impute=SimpleImputer(strategy='most_frequent')\n",
    "all_data['Product Name']=impute.fit_transform(all_data[['Product Name']])\n",
    "impute.statistics_"
   ]
  },
  {
   "cell_type": "code",
   "execution_count": 15,
   "id": "cc690d43",
   "metadata": {},
   "outputs": [
    {
     "data": {
      "text/plain": [
       "array(['P00668921'], dtype=object)"
      ]
     },
     "execution_count": 15,
     "metadata": {},
     "output_type": "execute_result"
    }
   ],
   "source": [
    "from sklearn.impute import SimpleImputer\n",
    "impute=SimpleImputer(strategy='most_frequent')\n",
    "all_data['Product No']=impute.fit_transform(all_data[['Product No']])\n",
    "impute.statistics_"
   ]
  },
  {
   "cell_type": "code",
   "execution_count": 16,
   "id": "9dea663c",
   "metadata": {},
   "outputs": [
    {
     "data": {
      "text/plain": [
       "array(['10% off over €600'], dtype=object)"
      ]
     },
     "execution_count": 16,
     "metadata": {},
     "output_type": "execute_result"
    }
   ],
   "source": [
    "from sklearn.impute import SimpleImputer\n",
    "impute=SimpleImputer(strategy='most_frequent')\n",
    "all_data['Product Discount']=impute.fit_transform(all_data[['Product Discount']])\n",
    "impute.statistics_"
   ]
  },
  {
   "cell_type": "code",
   "execution_count": 17,
   "id": "50e36441",
   "metadata": {},
   "outputs": [
    {
     "data": {
      "text/plain": [
       "array(['100% cotton'], dtype=object)"
      ]
     },
     "execution_count": 17,
     "metadata": {},
     "output_type": "execute_result"
    }
   ],
   "source": [
    "from sklearn.impute import SimpleImputer\n",
    "impute=SimpleImputer(strategy='most_frequent')\n",
    "all_data['Product Material']=impute.fit_transform(all_data[['Product Material']])\n",
    "impute.statistics_"
   ]
  },
  {
   "cell_type": "code",
   "execution_count": 18,
   "id": "f0f8c56d",
   "metadata": {},
   "outputs": [
    {
     "data": {
      "text/plain": [
       "array(['100% polyester, fully lined'], dtype=object)"
      ]
     },
     "execution_count": 18,
     "metadata": {},
     "output_type": "execute_result"
    }
   ],
   "source": [
    "from sklearn.impute import SimpleImputer\n",
    "impute=SimpleImputer(strategy='most_frequent')\n",
    "all_data['Product Lining']=impute.fit_transform(all_data[['Product Lining']])\n",
    "impute.statistics_"
   ]
  },
  {
   "cell_type": "code",
   "execution_count": 19,
   "id": "3c38a140",
   "metadata": {},
   "outputs": [
    {
     "data": {
      "text/plain": [
       "array(['dry clean'], dtype=object)"
      ]
     },
     "execution_count": 19,
     "metadata": {},
     "output_type": "execute_result"
    }
   ],
   "source": [
    "from sklearn.impute import SimpleImputer\n",
    "impute=SimpleImputer(strategy='most_frequent')\n",
    "all_data['Product Care Instructions']=impute.fit_transform(all_data[['Product Care Instructions']])\n",
    "impute.statistics_"
   ]
  },
  {
   "cell_type": "code",
   "execution_count": 20,
   "id": "fcecfa85",
   "metadata": {},
   "outputs": [
    {
     "data": {
      "text/plain": [
       "array(['China'], dtype=object)"
      ]
     },
     "execution_count": 20,
     "metadata": {},
     "output_type": "execute_result"
    }
   ],
   "source": [
    "from sklearn.impute import SimpleImputer\n",
    "impute=SimpleImputer(strategy='most_frequent')\n",
    "all_data['Product Manufacturing Country']=impute.fit_transform(all_data[['Product Manufacturing Country']])\n",
    "impute.statistics_"
   ]
  },
  {
   "cell_type": "code",
   "execution_count": 21,
   "id": "58d8b136",
   "metadata": {},
   "outputs": [
    {
     "data": {
      "text/plain": [
       "array(['Black'], dtype=object)"
      ]
     },
     "execution_count": 21,
     "metadata": {},
     "output_type": "execute_result"
    }
   ],
   "source": [
    "from sklearn.impute import SimpleImputer\n",
    "impute=SimpleImputer(strategy='most_frequent')\n",
    "all_data['Product Colour']=impute.fit_transform(all_data[['Product Colour']])\n",
    "impute.statistics_"
   ]
  },
  {
   "cell_type": "code",
   "execution_count": 22,
   "id": "abe68abe",
   "metadata": {},
   "outputs": [
    {
     "data": {
      "text/plain": [
       "array([329.])"
      ]
     },
     "execution_count": 22,
     "metadata": {},
     "output_type": "execute_result"
    }
   ],
   "source": [
    "from sklearn.impute import SimpleImputer\n",
    "impute=SimpleImputer(strategy='median')\n",
    "all_data['Product Price']=impute.fit_transform(all_data[['Product Price']])\n",
    "impute.statistics_"
   ]
  },
  {
   "cell_type": "code",
   "execution_count": 23,
   "id": "08ec882c",
   "metadata": {},
   "outputs": [
    {
     "data": {
      "text/plain": [
       "Product Designer                 0.0\n",
       "Product Name                     0.0\n",
       "Product Price                    0.0\n",
       "Product No                       0.0\n",
       "Product Discount                 0.0\n",
       "Product Material                 0.0\n",
       "Product Lining                   0.0\n",
       "Product Care Instructions        0.0\n",
       "Product Manufacturing Country    0.0\n",
       "Product Colour                   0.0\n",
       "dtype: float64"
      ]
     },
     "execution_count": 23,
     "metadata": {},
     "output_type": "execute_result"
    }
   ],
   "source": [
    "all_data.isnull().sum() * 100 / 3050"
   ]
  },
  {
   "cell_type": "code",
   "execution_count": 24,
   "id": "c8105a53",
   "metadata": {},
   "outputs": [
    {
     "data": {
      "text/html": [
       "<div>\n",
       "<style scoped>\n",
       "    .dataframe tbody tr th:only-of-type {\n",
       "        vertical-align: middle;\n",
       "    }\n",
       "\n",
       "    .dataframe tbody tr th {\n",
       "        vertical-align: top;\n",
       "    }\n",
       "\n",
       "    .dataframe thead th {\n",
       "        text-align: right;\n",
       "    }\n",
       "</style>\n",
       "<table border=\"1\" class=\"dataframe\">\n",
       "  <thead>\n",
       "    <tr style=\"text-align: right;\">\n",
       "      <th></th>\n",
       "      <th>Product Price</th>\n",
       "    </tr>\n",
       "  </thead>\n",
       "  <tbody>\n",
       "    <tr>\n",
       "      <th>count</th>\n",
       "      <td>3050.000000</td>\n",
       "    </tr>\n",
       "    <tr>\n",
       "      <th>mean</th>\n",
       "      <td>378.880328</td>\n",
       "    </tr>\n",
       "    <tr>\n",
       "      <th>std</th>\n",
       "      <td>202.793715</td>\n",
       "    </tr>\n",
       "    <tr>\n",
       "      <th>min</th>\n",
       "      <td>49.000000</td>\n",
       "    </tr>\n",
       "    <tr>\n",
       "      <th>25%</th>\n",
       "      <td>245.000000</td>\n",
       "    </tr>\n",
       "    <tr>\n",
       "      <th>50%</th>\n",
       "      <td>329.000000</td>\n",
       "    </tr>\n",
       "    <tr>\n",
       "      <th>75%</th>\n",
       "      <td>455.000000</td>\n",
       "    </tr>\n",
       "    <tr>\n",
       "      <th>max</th>\n",
       "      <td>995.000000</td>\n",
       "    </tr>\n",
       "  </tbody>\n",
       "</table>\n",
       "</div>"
      ],
      "text/plain": [
       "       Product Price\n",
       "count    3050.000000\n",
       "mean      378.880328\n",
       "std       202.793715\n",
       "min        49.000000\n",
       "25%       245.000000\n",
       "50%       329.000000\n",
       "75%       455.000000\n",
       "max       995.000000"
      ]
     },
     "execution_count": 24,
     "metadata": {},
     "output_type": "execute_result"
    }
   ],
   "source": [
    "all_data.describe()"
   ]
  },
  {
   "cell_type": "code",
   "execution_count": 25,
   "id": "7bef4387",
   "metadata": {},
   "outputs": [
    {
     "data": {
      "text/plain": [
       "array(['VINCE', 'FRAME', 'JARDIN DES ORANGERS', 'SAINT LAURENT',\n",
       "       'GIVENCHY', 'TOM FORD', 'POLO RALPH LAUREN', 'ETRO',\n",
       "       'LOVESHACKFANCY', 'TOTÊME', 'NENSI DOJAKA', 'AGUA BY AGUA BENDITA',\n",
       "       'ALEXANDER MCQUEEN', 'LOEWE', 'ALEXANDRE VAUTHIER', 'DION LEE',\n",
       "       'THE ATTICO', 'KARLA COLLETTO', 'RASARIO', 'ALÉMAIS', 'MONCLER',\n",
       "       'BALENCIAGA', 'PACO RABANNE', 'NORMA KAMALI', 'REDVALENTINO',\n",
       "       'SAFIYAA', 'ROKSANDA', 'OSCAR DE LA RENTA', 'ISABEL MARANT',\n",
       "       'VICTORIA BECKHAM', 'BARRIE', 'THOM BROWNE', '7 FOR ALL MANKIND',\n",
       "       'VELVET', 'JONATHAN SIMKHAI', 'ERDEM', 'SEE BY CHLOÉ',\n",
       "       'REINA OLGA', 'ERES', 'CAMILLA', 'JOHANNA ORTIZ', 'CANADA GOOSE',\n",
       "       'REBECCA VALLANCE', 'ANNA KOSTUROVA', 'OSÉREE', 'LEMAIRE',\n",
       "       'OFF-WHITE', 'STELLA MCCARTNEY', 'BOGNER', 'MISSONI MARE',\n",
       "       'YVES SALOMON', 'ALANUI', 'HUNZA G', 'TORY SPORT', 'VERSACE',\n",
       "       'ISABEL MARANT, ÉTOILE', 'MAISON MARGIELA', 'GIAMBATTISTA VALLI',\n",
       "       'JEAN PAUL GAULTIER', 'MELISSA ODABASH', 'BOTTEGA VENETA',\n",
       "       'RE/DONE', 'LOUISA BALLOU', 'DOROTHEE SCHUMACHER', 'JW ANDERSON',\n",
       "       'AMIRI', 'MM6 MAISON MARGIELA', 'VALENTINO', 'STAUD', 'SIR',\n",
       "       'TORY BURCH', 'PUCCI', 'ASCENO', 'CHRISTOPHER ESBER',\n",
       "       'SIMONE ROCHA', 'ALESSANDRA RICH', 'EMILIA WICKSTEAD', 'A.P.C.',\n",
       "       'GUCCI', 'MONCLER GENIUS', 'SALVATORE FERRAGAMO', 'RICK OWENS',\n",
       "       'MARNI', 'PROENZA SCHOULER', 'JULIET DUNN', 'COSTARELLOS',\n",
       "       'DAVID KOMA', 'VERONICA BEARD', 'NANUSHKA',\n",
       "       'DIANE VON FURSTENBERG', 'CO', 'ALEX PERRY', 'GOLDEN GOOSE',\n",
       "       'POUPETTE ST BARTH', 'JOSEPH', 'ALAÏA', 'CITIZENS OF HUMANITY',\n",
       "       'DOLCE&GABBANA', 'THE UPSIDE', 'DODO BAR OR', 'ELIE SAAB',\n",
       "       'VETEMENTS', 'JUNYA WATANABE', 'LORO PIANA', 'CAROLINE CONSTAS',\n",
       "       'NOIR KEI NINOMIYA', 'BLAZÉ MILANO', 'BRUNELLO CUCINELLI',\n",
       "       'ALTUZARRA', 'SACAI', 'MAX MARA', \"TOD'S\", 'CECILIE BAHNSEN',\n",
       "       'JACQUEMUS', 'CHRISTOPHER KANE', 'GANNI', 'GALVAN', 'WARDROBE.NYC',\n",
       "       'ULLA JOHNSON', 'MATICEVSKI', 'BALMAIN', 'ACNE STUDIOS', 'AGOLDE',\n",
       "       'EXTREME CASHMERE', \"'S MAX MARA\", 'STOULS', 'KENZO', 'VARLEY',\n",
       "       'ALO YOGA', 'ROTATE BIRGER CHRISTENSEN', 'RIXO', 'BLUMARINE',\n",
       "       'MAGDA BUTRYM', 'KHAITE', 'SPORTMAX', 'PATOU', 'SELF-PORTRAIT',\n",
       "       'JIL SANDER', 'THE ROW', 'AREA', 'CHLOÉ',\n",
       "       'YEEZY GAP ENGINEERED BY BALENCIAGA', 'FRANKIE SHOP', 'MUGLER',\n",
       "       'ZIMMERMANN', 'PALM ANGELS', 'MONCLER GRENOBLE', '3X1 N.Y.C.',\n",
       "       'MONIQUE LHUILLIER', 'PRISM²', 'MARYSIA', 'MÔNOT', 'RODARTE',\n",
       "       'LIVE THE PROCESS', 'AMI PARIS', 'AG JEANS', 'TROPIC OF C',\n",
       "       'GABRIELA HEARST', 'Y/PROJECT', 'MARINE SERRE', 'LEE MATHEWS',\n",
       "       'BURBERRY', 'COPERNI', 'PETAR PETROV', 'PETER DO', 'MISSONI',\n",
       "       'PLAN C'], dtype=object)"
      ]
     },
     "execution_count": 25,
     "metadata": {},
     "output_type": "execute_result"
    }
   ],
   "source": [
    "all_data['Product Designer'].unique()"
   ]
  },
  {
   "cell_type": "code",
   "execution_count": 26,
   "id": "acc500ca",
   "metadata": {},
   "outputs": [
    {
     "data": {
      "text/plain": [
       "167"
      ]
     },
     "execution_count": 26,
     "metadata": {},
     "output_type": "execute_result"
    }
   ],
   "source": [
    "all_data['Product Designer'].nunique()"
   ]
  },
  {
   "cell_type": "code",
   "execution_count": 27,
   "id": "d30bc941",
   "metadata": {},
   "outputs": [
    {
     "data": {
      "text/plain": [
       "VINCE                    144\n",
       "JARDIN DES ORANGERS      108\n",
       "VELVET                    99\n",
       "MELISSA ODABASH           95\n",
       "ISABEL MARANT, ÉTOILE     84\n",
       "                        ... \n",
       "MUGLER                     1\n",
       "MÔNOT                      1\n",
       "NOIR KEI NINOMIYA          1\n",
       "AREA                       1\n",
       "JUNYA WATANABE             1\n",
       "Name: Product Designer, Length: 167, dtype: int64"
      ]
     },
     "execution_count": 27,
     "metadata": {},
     "output_type": "execute_result"
    }
   ],
   "source": [
    "all_data['Product Designer'].value_counts()"
   ]
  },
  {
   "cell_type": "code",
   "execution_count": 28,
   "id": "9ba92d8c",
   "metadata": {},
   "outputs": [
    {
     "data": {
      "text/plain": [
       "array(['Dora linen minidress', 'High-rise cropped cotton-blend pants',\n",
       "       'Le High cropped straight jeans', ...,\n",
       "       'Loran corduroy shirt jacket', 'Wilde satin crêpe midi dress',\n",
       "       'Girlfriend mid-rise cropped jeans'], dtype=object)"
      ]
     },
     "execution_count": 28,
     "metadata": {},
     "output_type": "execute_result"
    }
   ],
   "source": [
    "all_data['Product Name'].unique() "
   ]
  },
  {
   "cell_type": "code",
   "execution_count": 29,
   "id": "5fd29c6c",
   "metadata": {},
   "outputs": [
    {
     "data": {
      "text/plain": [
       "2462"
      ]
     },
     "execution_count": 29,
     "metadata": {},
     "output_type": "execute_result"
    }
   ],
   "source": [
    "all_data['Product Name'].nunique() "
   ]
  },
  {
   "cell_type": "code",
   "execution_count": 30,
   "id": "db893682",
   "metadata": {},
   "outputs": [
    {
     "data": {
      "text/plain": [
       "Cashmere sweater                        34\n",
       "Cashmere cardigan                       13\n",
       "Wool and cashmere sweater               12\n",
       "Wool and cashmere cardigan              12\n",
       "High-rise straight jeans                 7\n",
       "                                        ..\n",
       "Ebbaz checked shirt jacket               1\n",
       "White Label ribbed-knit sweater          1\n",
       "Ayala lace-trimmed cotton midi dress     1\n",
       "Floral cotton shirt dress                1\n",
       "Single-breasted leather blazer           1\n",
       "Name: Product Name, Length: 2462, dtype: int64"
      ]
     },
     "execution_count": 30,
     "metadata": {},
     "output_type": "execute_result"
    }
   ],
   "source": [
    "all_data['Product Name'].value_counts() "
   ]
  },
  {
   "cell_type": "code",
   "execution_count": 31,
   "id": "59479618",
   "metadata": {},
   "outputs": [
    {
     "data": {
      "text/plain": [
       "array(['P00697841', 'P00727516', 'P00683891', ..., 'P00701605',\n",
       "       'P00683515', 'P00700213'], dtype=object)"
      ]
     },
     "execution_count": 31,
     "metadata": {},
     "output_type": "execute_result"
    }
   ],
   "source": [
    "all_data['Product No'].unique()"
   ]
  },
  {
   "cell_type": "code",
   "execution_count": 32,
   "id": "acc96418",
   "metadata": {},
   "outputs": [
    {
     "data": {
      "text/plain": [
       "2864"
      ]
     },
     "execution_count": 32,
     "metadata": {},
     "output_type": "execute_result"
    }
   ],
   "source": [
    "all_data['Product No'].nunique()"
   ]
  },
  {
   "cell_type": "code",
   "execution_count": 33,
   "id": "28187a78",
   "metadata": {},
   "outputs": [
    {
     "data": {
      "text/plain": [
       "P00668921    18\n",
       "P00740882     2\n",
       "P00683814     2\n",
       "P00742641     2\n",
       "P00722119     2\n",
       "             ..\n",
       "P00710953     1\n",
       "P00693368     1\n",
       "P00702830     1\n",
       "P00699726     1\n",
       "P00716648     1\n",
       "Name: Product No, Length: 2864, dtype: int64"
      ]
     },
     "execution_count": 33,
     "metadata": {},
     "output_type": "execute_result"
    }
   ],
   "source": [
    "all_data['Product No'].value_counts()"
   ]
  },
  {
   "cell_type": "code",
   "execution_count": 34,
   "id": "222bab77",
   "metadata": {},
   "outputs": [
    {
     "data": {
      "text/plain": [
       "array(['100% linen', '66% cotton, 31% viscose, 3% elastane',\n",
       "       '100% cotton', '70% virgin wool, 30% cashmere',\n",
       "       '100% viscose, material II', '100% lamb leather, material II',\n",
       "       '97% cotton, 3% elastane', '100% ramie',\n",
       "       '72% polyester, 28% elastane',\n",
       "       '81% recycled polyester, 19% elastane',\n",
       "       '52% polyester, 48% cotton', '100% polyester',\n",
       "       '93% polyester, 7% elastane, material II',\n",
       "       '100% polyamide, material II', '70% cashmere, 30% silk',\n",
       "       '72% nylon, 28% elastane', '97% polyester, 3% elastane',\n",
       "       '70% wool, 30% cashmere', '100% polyamide',\n",
       "       '98% cotton, 2% elastane', '80% polyester, 20% elastane',\n",
       "       '69% viscose, 31% polyamide', '82% viscose, 18% polyester',\n",
       "       '95% polyester, 5% elastane', '79% wool, 21% polyamide',\n",
       "       '92% polyester, 8% elastane', '100% virgin wool',\n",
       "       '85% polyamide, 15% cotton', '100% cotton, material II',\n",
       "       '66% viscose, 21% elastane, 13% polyester',\n",
       "       '79% cashmere, 21% wool', '100% cashmere',\n",
       "       '92% polyamide, 8% elastane',\n",
       "       '87% polyamide, 8% polyester, 5% elastane, material II',\n",
       "       '82% nylon, 18% elastane', '60% cotton, 40% polyester',\n",
       "       '44% cotton, 36% polyamide, 20% polyester',\n",
       "       '78% polyamide, 22% elastane', '100% lamb leather',\n",
       "       '65% viscose, 30% polyamide, 5% elastane',\n",
       "       '100% cashmere, 100% silk, material II',\n",
       "       '75% viscose, 23% polyamide, 2% elastane', '97% silk, 3% elastane',\n",
       "       '77% polyamide, 23% elastane', '70% cotton, 30% silk', '100% silk',\n",
       "       '100% organic cotton', '55% mohair, 41% wool, 4% polyamide',\n",
       "       '93% modal, 7% elastane', '83% viscose, 17% polyester',\n",
       "       '80% polyamide, 20% elastane', '95% viscose, 5% elastane',\n",
       "       '53% viscose, 44% polyamide, 3% elastane',\n",
       "       '84% polyester, 16% cotton', '54% polyester, 46% triacetate',\n",
       "       '64% polyamide, 36% metallic fibres', '83% viscose, 17% elastane',\n",
       "       '83% cotton, 17% polyester, material II', '91% Tencel®, 9% nylon',\n",
       "       '85% polyamide, 15% elastane', '60% acetate, 40% polyester',\n",
       "       '100% viscose', '81% viscose, 19% polyester',\n",
       "       '93% cotton, 7% elastane', '100% polyester, material II',\n",
       "       '100% recycled polyamide', '88% nylon, 12% elastane',\n",
       "       '98% polyester, 2% elastane',\n",
       "       '59% nylon, 34% polyester, 7% elastane, material II',\n",
       "       '46% cotton, 30% viscose, 22% polyester, 2% elastane',\n",
       "       '68% cotton, 32% hemp',\n",
       "       '82% viscose, 17% polyester, 1% other fibres', '100% wool',\n",
       "       '72% cotton, 16% polyamide, 7% lyocell, 3% viscose, 1% acrylic, 1% metallic fibres',\n",
       "       '77% viscose, 18% polyamide, 5% elastane',\n",
       "       '75% cotton, 25% polyester, material II',\n",
       "       '50% cotton, 50% silk, material II', '100% silk, material II',\n",
       "       '96% viscose, 4% elastane',\n",
       "       '31% wool (merino wool), 31% nylon, 18% alpaca wool, 17% viscose, 3% elastane',\n",
       "       '57% linen, 20% cotton, 18% polyamide, 5% elastane',\n",
       "       '65% cotton, 23% polyamide, 12% viscose',\n",
       "       '22% cotton, 20% polyamide, 17% acrylic, 17% viscose, 16% wool, 8% polyester',\n",
       "       '86% polyamide, 14% elastane', '100% cashmere, material II',\n",
       "       '90% wool, 10% cashmere', '66% viscose, 17% cotton, 17% modal',\n",
       "       '82% polyamide, 18% elastane, material II',\n",
       "       '100% wool, material II', '94% cotton, 4% polyester, 2% elastane',\n",
       "       '80% cotton, 20% silk',\n",
       "       '20% cotton, 17% acrylic, 17% polyamide, 17% viscose, 8% polyester',\n",
       "       '78% recycled polyamide, 22% elastane',\n",
       "       '67% viscose, 28% polyamide, 5% elastane', '100% nylon',\n",
       "       '73% polyamide, 27% elastane',\n",
       "       '43% viscose, 34% cotton, 23% polyamide, material II',\n",
       "       '65% viscose, 35% cupro', '100% virgin wool, material II',\n",
       "       '100% polyurethane, material II', '100% wool (merino wool)',\n",
       "       '100% acetate', '52% wool, 37% viscose, 11% polyester',\n",
       "       '60% wool, 23% mohair, 16% polyamide, 1% elastane',\n",
       "       '64% acetate, 36% viscose', '83% viscose, 17% silk',\n",
       "       '71% triacetate, 29% polyester, material II',\n",
       "       '85% recycled polyamide, 15% elastane', '56% linen, 44% cotton',\n",
       "       '80% polyester, 12% acrylic, 8% cupro',\n",
       "       '45% cotton, 45% polyamide, 10% elastane',\n",
       "       '58% cotton, 41% lyocell, 1% elastane',\n",
       "       '58% linen, 39% viscose, 3% elastane',\n",
       "       '70% polyamide, 30% polyester',\n",
       "       '27% acrylic, 24% polyester, 22% wool, 19% cotton, 5% polyamide, 2% viscose, 1% cashmere',\n",
       "       '73% acetate, 27% silk, material II', '90% viscose, 10% nylon',\n",
       "       '85% cotton, 9% metallic fibres, 6% polyamide',\n",
       "       '60% wool, 21% mohair, 18% polyamide, 1% elastane',\n",
       "       '75% wool, 25% mohair', '65% silk, 35% cotton',\n",
       "       '34% viscose, 32% silk, 17% metallic fibres, 17% polyamide',\n",
       "       '80% polyamide, 14% wool, 6% elastane', '100% lamb fur',\n",
       "       '96% nylon, 4% elastane', '50% acrylic, 50% wool',\n",
       "       '69% viscose, 31% cupro', '70% acetate, 30% viscose, material II',\n",
       "       '64% viscose, 36% silk', '95% cotton, 5% elastane',\n",
       "       '73% wool, 27% mohair', '42% alpaca wool, 30% cotton, 28% wool',\n",
       "       '75% viscose, 25% silk', '90% wool, 10% polyamide',\n",
       "       '49% alpaca wool, 27% wool, 24% polyamide', 'leather',\n",
       "       '100% cow leather',\n",
       "       '35% wool, 30% alpaca wool, 20% polyamide, 15% mohair',\n",
       "       '90% polyester, 10% polyamide', '100% triacetate',\n",
       "       '96% wool, 3% polyamide, 1% elastane, material II', 'lamb leather',\n",
       "       '49% wool, 34% viscose, 8% polyamide, 6% polyester, 3% elastane, material II',\n",
       "       '38% wool, 26% nylon, 22% cotton, 12% viscose, 2% cashmere',\n",
       "       '100% leather', '82% mohair, 16% polyamide, 2% elastane',\n",
       "       '89% wool, 10% polyamide, 1% polyurethane',\n",
       "       '63% polyester, 37% acetate',\n",
       "       '37% wool, 27% polyamide, 21% cotton, 8% acrylic, 7% polyester',\n",
       "       '82% wool, 13% cotton, 5% polyamide',\n",
       "       '84% polyamide, 16% elastane', '73% triacetate, 27% polyester',\n",
       "       '45% cotton, 33% viscose, 14% polyester, 8% metallic fibres',\n",
       "       '58% cotton, 37% polyester, 5% elastane',\n",
       "       '63% alpaca wool, 37% polyamide',\n",
       "       '35% cotton, 35% viscose, 25% wool, 5% polyamide',\n",
       "       '57% polyamide, 43% viscose', '100% recycled nylon',\n",
       "       '76% cotton, 24% nylon, material II',\n",
       "       '72% nylon, 22% polyester, 6% elastane, material II',\n",
       "       '41% lyocell, 40% organic cotton, 18% cotton, 1% elastane',\n",
       "       '85% cotton, 15% linen',\n",
       "       '69% wool, 28% cashmere, 2% other fibres, 1% elastane',\n",
       "       '93% wool, 6% polyamide, 1% elastane, material II',\n",
       "       '77% cotton, 18.50% modal, 3.5% polyester, 1% elastane',\n",
       "       '86% polyester, 14% elastane',\n",
       "       '72% recycled polyamide, 28% elastane',\n",
       "       '70% wool, 17% polyamide, 9% polyester, 3% acrylic, 1% other fibres',\n",
       "       '92% viscose, 8% silk', '76% viscose, 24% polyamide',\n",
       "       '66% polyester, 34% wool', '99% cotton, 1% elastane',\n",
       "       '85% viscose, 15% nylon', '83% cotton, 17% silk, material II',\n",
       "       '98% wool, 2% elastane', 'lamb leather, shearling',\n",
       "       '100% polypropylene',\n",
       "       '27% wool, 24% polyester, 22% polyamide, 18% acrylic, 9% cotton',\n",
       "       '76% cotton, 21% polyamide, 3% elastane, material II',\n",
       "       '77% cotton, 22% lyocell, 1% elastane', '53% acetate, 47% viscose',\n",
       "       '72% polyamide, 28% elastane, material II',\n",
       "       '80% cotton, 11% lyocell, 9% elastane',\n",
       "       '96% polyamide, 4% elastane',\n",
       "       '93% wool, 4% elastane, 3% polyamide',\n",
       "       '96% cotton, 3% polyester, 1% elastane', '100% goat leather',\n",
       "       '96% viscose, 4% polyester', '60% cotton, 25% polyamide, 15% wool',\n",
       "       '71% viscose, 29% polyester',\n",
       "       '57% viscose, 29% cotton, 14% polyamide',\n",
       "       '86% polyester, 14% cotton', '55% cotton, 45% polyamide',\n",
       "       '94% cotton, 6% elastane', '55% polyurethane, 45% polyester',\n",
       "       '70% mohair, 15% wool, 10% polyamide, 5% cotton',\n",
       "       '55% cotton, 45% polyamide, material II',\n",
       "       '60% polyester, 40% cotton, material II',\n",
       "       '43% wool, 32% polyamide, 25% mohair',\n",
       "       '61% mohair, 31% polyamide, 8% wool',\n",
       "       '60% wool, 38% polyester, 2% elastane',\n",
       "       '93% polyamide, 7% elastane, material II',\n",
       "       '74% polyamide, 26% elastane', '100% nylon, material II',\n",
       "       '55% polyester, 31% acrylic, 14% wool',\n",
       "       '77% cotton, 18.50% modal, 3.50% polyester, 1% elastane',\n",
       "       '93% modacrylic, 7% polyester',\n",
       "       '78% wool, 15% mohair, 7% polyamide',\n",
       "       '60% polyamide, 40% polyester',\n",
       "       '39% cotton, 36% polyester, 25% polyamide',\n",
       "       '94% silk, 6% elastane',\n",
       "       '80% viscose, 10% polyamide, 10% polyester',\n",
       "       '71% polyester, 26% polyamide, 3% elastane', '100% aluminum',\n",
       "       '85% polyester, 15% cotton',\n",
       "       '75% wool, 20% polyamide, 5% other fibres',\n",
       "       '81% triacetate, 19% polyester',\n",
       "       '91.5% cotton, 6% polyester, 2.5% elastane',\n",
       "       '96% wool, 4% polyamide', '88% cotton, 12% polyester',\n",
       "       '63% wool (merino wool), 33% polyester, 4% other fibres',\n",
       "       '45% wool, 35% recycled wool, 20% polyamide',\n",
       "       '73% viscose, 25% nylon, 2% elastane',\n",
       "       '80% triacetate, 20% polyester',\n",
       "       '92% cashmere, 5% wool, 3% other fibres',\n",
       "       '88% cotton, 12% polyester, material II',\n",
       "       '62% cotton, 38% polyester, material II',\n",
       "       '100% recycled polyester',\n",
       "       '55% wool, 28% silk, 15% polyamide, 2% elastane',\n",
       "       '77.5% cotton, 14% viscose, 6% polyester, 2.5% elastane',\n",
       "       '65% viscose, 28% polyester, 5% polyamide, 2% elastane, material II',\n",
       "       '88% polyester, 12% elastane', '100% camel hair, material II',\n",
       "       '72% viscose, 27% polyamide, 1% elastane',\n",
       "       '70% triacetate, 30% polyester, material II',\n",
       "       '80% cotton, 20% polyamide', '67% cotton, 33% viscose',\n",
       "       '93% polyester, 7% elastane',\n",
       "       '45% cotton, 39% polyester, 16% polyamide',\n",
       "       '84% viscose, 13% polyamide, 3% elastane',\n",
       "       '50% viscose, 47% acetate, 3% elastane',\n",
       "       '72% viscose, 7% polyamide, 1% elastane',\n",
       "       '92% polyester, 8% elastane, material II',\n",
       "       '60% polyurethane, 40% polyester',\n",
       "       '88% cashmere, 10% nylon, 2% elastane',\n",
       "       '84% cotton, 16% polyamide',\n",
       "       '93% cotton, 6% polyester, 1% elastane', '73% wool, 27% polyamide',\n",
       "       '35% alpaca wool, 35% mohair, 30% polyamide',\n",
       "       '30% wool, 25% alpaca wool, 25% polyamide, 12% cotton, 7% viscose, 1% metallic fibres',\n",
       "       '60% organic cotton, 28% cotton, 12% recycled polyester, material II',\n",
       "       '57% polyester, 43% polyurethane',\n",
       "       '69% cotton, 14% polyester, 14% lyocell, 3% elastane',\n",
       "       '55% viscose, 45% cotton', '90% polyester, 10% elastane',\n",
       "       '65% viscose, 20% nylon, 13% polyester, 2% elastane',\n",
       "       '55% cotton, 24% polyester, 19% wool, 2% elastane',\n",
       "       '72% wool, 25% polyamide, 3% elastane',\n",
       "       '77% viscose, 16% polyester, 6% polyamide, 1% elastane',\n",
       "       '27% wool, 24% polyester, 22% polyamide, 18% acrylic, 9% cotton, material II',\n",
       "       '74% recycled nylon, 26% elastane',\n",
       "       '80% triacetate, 20% polyester, material II',\n",
       "       '50% recycled polyester, 47% polyester, 3% elastane',\n",
       "       '75% recycled polyester, 25% elastane',\n",
       "       '77% viscose, 16% polyester, 5% polyamide, 2% elastane',\n",
       "       '63% wool, 33% polyester, 4% other fibres',\n",
       "       '37% viscose, 30% silk, 25% cotton, 8% polyester',\n",
       "       '52% wool, 43% cotton, 5% elastane', '71% nylon, 29% elastane',\n",
       "       '91% polyamide, 9% elastane',\n",
       "       '44% cotton, 42% lyocell, 13% polyester, 1% elastane',\n",
       "       '92% silk, 8% elastane',\n",
       "       '57% alpaca wool, 31% polyamide, 12% linen',\n",
       "       '65% viscose, 35% nylon',\n",
       "       '60% wool, 20% alpaca wool, 20% polyamide',\n",
       "       '82% viscose, 17% polyester, 1% polyamide',\n",
       "       '70% triacetate, 30% polyester', '54% wool, 46% cotton',\n",
       "       '56% recycled polyester, 44% polyurethane',\n",
       "       '66% viscose, 34% silk',\n",
       "       '75% viscose, 15% polyester, 6% cotton, 2% metallic fibres, 2% polyamide',\n",
       "       '96% wool, 3% polyamide, 1% elastane', '71% acetate, 29% viscose',\n",
       "       '94% cashmere, 5% nylon, 1% elastane',\n",
       "       '94% wool, 5% elastane, 1% polyamide',\n",
       "       '53% polyester, 44% virgin wool, 3% elastane',\n",
       "       '65% wool, 35% viscose, material II',\n",
       "       '67% mohair, 28% polyamide, 5% wool, material II',\n",
       "       '30% virgin wool, 25% acrylic, 22% polyester, 10% alpaca wool, 10% wool, 3% polyamide',\n",
       "       '85% modal, 15% polyester',\n",
       "       '30% polyamide, 30% mohair, 25% acrylic, 15% virgin wool',\n",
       "       '72% viscose, 27% nylon, 1% elastane', '85% wool, 15% silk',\n",
       "       '55% polyester, 45% virgin wool',\n",
       "       '45% cotton, 31% viscose, 22% polyester, 2% elastane',\n",
       "       '99% wool, 1% elastane', '65% acrylic, 35% polyamide',\n",
       "       '72% polyamide, 28% elastane',\n",
       "       '74% viscose, 23% silk, 3% elastane',\n",
       "       '90% virgin wool, 10% cashmere',\n",
       "       '75% cotton, 15% polyamide, 5% lyocell, 3% viscose, 1% acrylic, 1% metallic fibres',\n",
       "       '82% viscose, 18% polyamide',\n",
       "       '82% cotton, 18% polyester, material II',\n",
       "       '93% viscose, 7% elastane', '62% viscose, 24% lyocell, 14% nylon',\n",
       "       '91% lyocell, 9% nylon', '99% wool, 1% silk',\n",
       "       '34% cotton, 30% wool, 25% polyester, 10% polyamide, 1% elastane',\n",
       "       '59% cotton, 41% Tencel®', '90% cotton, 10% silk, material II',\n",
       "       '41% wool, 29% viscose, 29% polyester, 1% elastane',\n",
       "       '97% cupro, 3% elastane', '53% viscose, 47% polyester',\n",
       "       '85% polyester, 15% elastane',\n",
       "       '75% viscose, 21% silk, 4% elastane', '97% wool, 3% silk',\n",
       "       '54% viscose, 45% polyamide, 1% elastane',\n",
       "       '56% alpaca wool, 23% wool, 21% polyamide',\n",
       "       '51% viscose, 35% cotton, 12% polyamide, 2% elastane',\n",
       "       '87% polyamide, 13% elastane', '83% viscose, 17% polyamide',\n",
       "       '50% wool, 28% cotton, 19% acetate, 3% acrylic, material II',\n",
       "       '61% wool, 30% mohair, 9% polyamide',\n",
       "       '34% wool, 34% mohair, 27% nylon, 5% elastane',\n",
       "       '52% viscose, 48% acetate',\n",
       "       '50% linen, 35% polyamide, 15% elastane',\n",
       "       '76% virgin wool, 24% cotton', '98% polyamide, 2% elastane',\n",
       "       '50% alpaca wool, 50% wool', '87% cotton, 13% hemp',\n",
       "       '87% nylon, 13% elastane',\n",
       "       '79% mohair, 12% polyamide, 8% wool, 1% elastane',\n",
       "       '48% mohair, 35% nylon, 10% wool, 7% alpaca wool',\n",
       "       '55% polyamide, 36% cotton, 9% elastane, material II',\n",
       "       '46% alpaca wool, 34% polyamide, 20% wool',\n",
       "       '97% viscose, 2% polyamide, 1% elastane, material II',\n",
       "       '84% recycled polyester, 16% elastane', '92% viscose, 8% elastane',\n",
       "       '100% lamb fur, material II', '82% wool, 18% nylon',\n",
       "       '100% calf leather', '98% viscose, 2% elastane',\n",
       "       '60% wool, 20% acrylic, 9% polyester, 4% alpaca wool, 4% other fibres, 3% polyamide',\n",
       "       '52% polyester, 43% virgin wool, 5% elastane',\n",
       "       '72% cotton, 28% elastomustier, material II',\n",
       "       '93% polyamide, 7% elastane', '52% cotton, 48% polyester',\n",
       "       '88% wool (merino wool), 11% polyamide, 1% elastane',\n",
       "       '75% cotton, 8% linen, 8% lyocell, 5% hemp, 4% viscose',\n",
       "       '80% cotton, 20% elastane',\n",
       "       '52% acetate, 45% viscose, 3% elastane',\n",
       "       '55% mohair, 35% recycled nylon, 10% wool',\n",
       "       '31% cotton, 19% acetate, 19% polyamide, 15% viscose, 11% polyester, 5% linen',\n",
       "       '59% polyamide, 14% polyester, 14% wool, 6% cotton, 6% viscose, 1% other fibres',\n",
       "       '55% wool, 45% cashmere, material II',\n",
       "       '83% viscose, 17% polyester, material II',\n",
       "       '90% cashmere, 10% polyamide', '85% cotton, 15% organic cotton',\n",
       "       '95% nylon, 5% elastane', '65% polyester, 35% silk',\n",
       "       '80% wool, 20% polyamide', '75% cashmere, 25% silk',\n",
       "       '63% wool, 12% mohair, 12% polyurethane, 8% polyester, 4% polyamide',\n",
       "       '80% wool, 20% cashmere', '90% polyamide, 10% elastane',\n",
       "       '75% polyamide, 25% elastane',\n",
       "       '72% cotton, 28% polyamide, material II',\n",
       "       '88% polyamide, 12% elastane',\n",
       "       '90% viscose, 6% polyamide, 4% elastane',\n",
       "       '70% virgin wool, 24% viscose, 6% metallic fibres',\n",
       "       '58% virgin wool, 23% alpaca wool, 15% polyamide, 4% wool',\n",
       "       '54% wool, 46% viscose',\n",
       "       '86% polyester, 14% elastane, material II',\n",
       "       '70% wool, 30% cashmere, material II', '65% viscose, 35% silk',\n",
       "       '57% cotton, 43% nylon', '65% cotton, 29% polyamide, 6% wool',\n",
       "       '93% silk, 7% elastane', '96% silk, 4% elastane',\n",
       "       '55% recycled polyester, 45% wool', '70% ramie, 30% cotton',\n",
       "       '33% polyamide, 31% viscose, 28% cotton, 7% polyester, 1% elastane',\n",
       "       '70% cotton, 27% polyamide, 3% viscose', '50% cashmere, 50% wool',\n",
       "       '80% cashmere, 20% wool', 'linen', '86% viscose, 14% wool',\n",
       "       '76% polyamide, 24% elastane',\n",
       "       '78% cotton, 16% polyamide, 6% elastane, material II',\n",
       "       '84% polyester, 16% polyamide',\n",
       "       '57.75% cotton, 32.5% nylon, 8.25% silk, 1.75% elastane',\n",
       "       '90% nylon, 10% elastane', '98% linen, 2% polyamide, material II',\n",
       "       '73% viscose, 27% linen, material II',\n",
       "       '54% polyester, 44% virgin wool, 2% elastane',\n",
       "       '96% wool, 4% elastane',\n",
       "       '66% organic cotton, 34% recycled polyester, polyester',\n",
       "       '42% alpaca wool, 30% polyamide, 20% mohair, 8% wool',\n",
       "       '52% cotton, 41% polyamide, 7% elastane',\n",
       "       '82% virgin wool, 17% cashmere, 2% polyamide',\n",
       "       '81% polyester, 19% elastane, material II',\n",
       "       '58% viscose, 42% silk', '94% silk, 6% elastane, material II',\n",
       "       '86% polyester, 12% polyamide, 2% elastane',\n",
       "       '66% cotton, 34% polyamide',\n",
       "       '92% viscose, 8% elastane, material II', '92% wool, 8% polyamide',\n",
       "       '47% acrylic, 22% cotton, 12% alpaca wool, 11% wool, 8% viscose',\n",
       "       '59% cotton, 41% cashmere',\n",
       "       '75% viscose, 16% polyester, 9% polyamide',\n",
       "       '50% cotton, 24% polyamide, 11% acetate, 7% metallic fibres, 4% viscose, 3% polyester, 1% acrylic',\n",
       "       '65% acetate, 29% polyamide, 6% elastane',\n",
       "       '46% polyamide, 38% polyester, 16% elastane, material II',\n",
       "       '75% viscose, 16% polyester, 8% polyamide, 1% elastane',\n",
       "       '60% cotton, 30% modal, 8% polyester, 2% polyurethane',\n",
       "       '85% viscose, 15% polyester',\n",
       "       '66% viscose, 33% linen, 1% elastane', '52% viscose, 48% cotton',\n",
       "       '80% polyamide, 15% polyester, 5% viscose',\n",
       "       '55% polyamide, 45% polyester',\n",
       "       '77% wool, 8% alpaca wool, 8% mohair, 7% polyamide',\n",
       "       '100% baby cashmere', '97% viscose, 3% elastane',\n",
       "       '75% acetate, 25% silk', '65% cotton, 35% polyamide',\n",
       "       '91% silk, 9% elastane', '67% cotton, 33% polyamide',\n",
       "       '61% cotton, 38% lyocell, 1% elastane',\n",
       "       '98% cotton, 2% elastane, material II', 'baby cashmere',\n",
       "       '65% polyamide, 35% elastane', '96% wool, 4% cotton',\n",
       "       '56% cotton, 23% polyamide, 21% viscose',\n",
       "       '59% cotton, 39% polyester, 1% elastane, 1% metallic fibres',\n",
       "       '34% viscose, 31% polyamide, 14% acetate, 7% polyester, 5% wool, 4% acrylic, 3% mohair, 2% metallic fibres',\n",
       "       '99% polyester, 1% elastane', '68% nylon, 32% elastane',\n",
       "       '94% cotton, 5% polyester, 1% elastane', '100% camel hair',\n",
       "       '95% virgin wool, 5% cashmere', '79% cotton, 21% silk',\n",
       "       '81% viscose, 19% metallic fibres',\n",
       "       '54% wool, 29% acrylic, 7% mohair, 7% polyamide, 3% cotton',\n",
       "       '87% wool, 12% polyamide, 1% elastane',\n",
       "       '31% cotton, 30% acrylic, 18% viscose, 15% wool, 6% polyester',\n",
       "       '34% polyamide, 30% viscose, 15% acetate, 10% polyester, 5% wool, 3% metallic fibres, 3% mohair',\n",
       "       '43% wool, 22% polyamide, 19% cotton, 13% mohair, 2% cashmere, 1% elastane',\n",
       "       '51% cashmere, 22% silk, 20% polyamide, 7% polyester', 'nylon',\n",
       "       '76% viscose, 12% polyamide, 11% polyester, 1% elastane',\n",
       "       '100% modacrylic', '60% cashmere, 40% alpaca wool',\n",
       "       '66% cotton, 34% recycled polyester', '100% polyamide, polyester',\n",
       "       '71% cotton, 29% polyester', '68% lyocell, 32% polyamide',\n",
       "       '87% viscose, 12% nylon, 1% elastane', '74% wool, 26% cashmere',\n",
       "       '76% viscose, 24% linen', '94% polyamide, 6% elastane',\n",
       "       '95% viscose, 5% wool', '52% viscose, 48% wool',\n",
       "       '55% silk, 45% cotton', '90% viscose, 10% elastane',\n",
       "       '47% cashmere, 47% wool, 4% polyester, 2% polyamide',\n",
       "       '62% cotton, 38% polyester',\n",
       "       '51% wool, 35% viscose, 11% polyamide, 3% elastane',\n",
       "       '72% cotton, 23% polyamide, 5% elastane',\n",
       "       '66% cotton, 34% polyester', '76% nylon, 24% elastane',\n",
       "       '100% linen, material II', '90% wool (merino wool), 10% cashmere',\n",
       "       '67% cotton, 15% polyamide, 11% polyester, 7% viscose',\n",
       "       '71% acrylic, 29% wool', '52% acetate, 43% viscose, 5% elastane',\n",
       "       '85% cotton, 11% polyester, 4% elastane',\n",
       "       '52% linen, 48% silk, material II', '52% linen, 48% silk',\n",
       "       '82% viscose, 18% silk, material II',\n",
       "       '48% modal, 47% cotton, 5% elastane',\n",
       "       '58% cotton, 32% nylon, 8% silk, 2% elastane',\n",
       "       '70% cotton, 28% polyester, 2% elastane',\n",
       "       '93% viscose, 5% elastane, polyamide',\n",
       "       '78% polyester, 22% elastane', '52% silk, 48% cotton',\n",
       "       '65% virgin wool, 35% viscose, material II',\n",
       "       '53% mohair, 25% polyamide, 20% wool, 2% cashmere',\n",
       "       '88% viscose, 14% polybutylen',\n",
       "       '100% polyester, 100% polyurethane', '68% cotton, 32% polyamide',\n",
       "       '86% viscose, 14% polyethylene', '52% cotton, 48% lyocell',\n",
       "       '52% wool, 35% acrylic, 13% polyamide',\n",
       "       '56% alpaca wool, 34% polyamide, 10% wool, material II',\n",
       "       '68% cotton, 32% polyamide, material II',\n",
       "       '52% viscose, 20% cotton, 17% acrylic, 11% polyester',\n",
       "       '74% nylon, 26% elastane', '65% acetate, 35% viscose',\n",
       "       '86% polyamide, 14% elastane, material II',\n",
       "       '69% nylon, 31% lyocell',\n",
       "       '92% cotton, 5% cashmere, 3% polyester, 3% recycled polyester',\n",
       "       '50% acrylic, 50% wool (merino wool)', '88% cotton, 12% hemp',\n",
       "       '98% linen, 2% polyamide', '66% viscose, 30% acetate, 4% elastane',\n",
       "       '95% wool, 5% elastane', '88% recycled polyamide, 12% elastane',\n",
       "       '54% viscose, 46% wool', '52% cotton, 42% viscose, 6% wool',\n",
       "       '65% wool, 35% silk', '80% recycled polyamide, 20% elastane',\n",
       "       '81% polyester, 19% elastane', '62% mohair, 38% polyamide',\n",
       "       '57% alpaca wool, 24% wool, 19% polyamide', '78% cotton, 12% silk',\n",
       "       '69% viscose, 27% polyamide, 4% elastane',\n",
       "       '45% cotton, 33% paper, 22% viscose', '72% wool, 28% polyamide',\n",
       "       '87% polyamide, 8% polyester, 5% elastane', '90% wool, 10% silk',\n",
       "       '93% cotton, 7% cashmere',\n",
       "       '62% alpaca wool, 26% wool, 12% silk, material II',\n",
       "       '86% wool, 11% polyamide, 3% elastane, material II',\n",
       "       '83% viscose, 17% regenerated cellulose fiber',\n",
       "       '67% cotton, 24% polyamide, 5% acrylic, 4% metallic fibres',\n",
       "       '91% cotton, 6% elastomustier', '67% cotton, 33% polyurethane',\n",
       "       '70% cotton, 30% viscose', '67% cotton, 33% silk',\n",
       "       '79% cotton, 14% lyocell, 5% elastomustier , 2% elastane',\n",
       "       '51% polyester, 49% cotton', '67% Tencel®, 33% nylon',\n",
       "       '96% silk, 4% elastane, material II',\n",
       "       '86% linen, 13% polyamide, 1% elastane', '81% nylon, 19% elastane',\n",
       "       '55% polyester, 45% wool',\n",
       "       '50% leather, 30% polyurethane, 10% polyester, 10% viscose',\n",
       "       '66% wool, 17% polyester, 10% acrylic, 7% polyamide',\n",
       "       '95% organic cotton, 5% elastane', '91% viscose, 9% elastane',\n",
       "       '60% viscose, 39% polyamide, 1% elastane',\n",
       "       '87% triacetate, 13% polyester', '75% viscose, 25% nylon',\n",
       "       '65% cotton, 35% lyocell',\n",
       "       '86% alpaca wool, 13% nylon, 1% elastane',\n",
       "       '55% alpaca wool, 31% wool, 14% polyamide',\n",
       "       '84% viscose, 11% polyamide, 5% elastane',\n",
       "       '80% cotton, 20% polyester',\n",
       "       '45% polyester, 44% polyamide, 11% elastane', '100% hemp',\n",
       "       '95% cotton, 4% viscose, 1% polyester',\n",
       "       '35% mohair, 35% wool, 27% polyamide, 3% elastane',\n",
       "       '53% linen, 47% silk', '77% Tencel®, 23% cotton',\n",
       "       '72% nylon, 28% elastane, material II', '94% wool, 6% polyamide',\n",
       "       '94% virgin wool, 6% polyamide, material II',\n",
       "       '98% cotton, 2% polyurethane',\n",
       "       '92% cotton, 6% polyester, 2% elastane',\n",
       "       '70% cotton, 30% polyamide', '67% viscose, 29% nylon, 4% elastane',\n",
       "       '65% viscose, 30% nylon, 5% elastane, material II',\n",
       "       '63% cotton, 37% nylon', '65% wool, 35% viscose',\n",
       "       '53% linen, 47% silk, material II',\n",
       "       '70% cashmere, 30% silk, material II',\n",
       "       '51% linen, 49% silk, material II',\n",
       "       '77% viscose, 20% silk, 3% elastane',\n",
       "       '99% organic cotton, 1% elastane',\n",
       "       '38% mohair, 38% wool, 19% polyamide, 5% elastane',\n",
       "       '60% cotton, 40% silk', '94% silk, 6% lyocell',\n",
       "       '70% wool (merino wool), 30% cashmere', '88% cashmere, 12% silk',\n",
       "       '75% polyester, 25% silk', '82% polyester, 18% polyamide',\n",
       "       '88% viscose, 12% silk',\n",
       "       '48% cotton, 30% viscose, 22% polyester, 2% elastane',\n",
       "       '91% silk, 9% elastane, material II', '82% viscose, 18% silk',\n",
       "       '60% wool, 40% alpaca wool',\n",
       "       '95% polyester, 5% elastane, material II',\n",
       "       '95% cashmere, 5% elastane',\n",
       "       '97% alpaca wool, 2% polyamide, 1% mohair',\n",
       "       '54% organic cotton, 22% wool, 14% acrylic, 7% alpaca wool, 3% polyamide',\n",
       "       '50% alpaca wool, 50% virgin wool', '75% cotton, 25% polyester',\n",
       "       '57% polyester, 43% wool', '75% nylon, 25% elastane',\n",
       "       '45% cotton, 22% lyocell, 21% polyester, 10% viscose, 2% elastane',\n",
       "       '71% wool, 29% viscose', '52% viscose, 46% polyamide, 2% elastane',\n",
       "       '80% recycled polyester, 20% elastane',\n",
       "       '70% polyamide, 25% polyester, 5% metallic fibres',\n",
       "       '98% cotton, 2% metallic fibres',\n",
       "       '75% polyester, 9% silk, 8% cotton, 8% metallic fibres',\n",
       "       '87% polyamide, 7% metal, 6% elastane',\n",
       "       '94% cotton, 6% elastane, material II',\n",
       "       '76% triacetate, 24% polyester', '82% triacetate, 18% polyester',\n",
       "       '93% viscose, 5% polyamide, 2% elastane', '85% wool, 15% nylon',\n",
       "       '55% viscose, 29% polyamide, 16% elastane',\n",
       "       '60% cotton, 40% acrylic', '87% wool, 13% elastane',\n",
       "       '83% polyamide, 17% elastane',\n",
       "       '69% wool, 29% cashmere, 2% polyamide',\n",
       "       '89% viscose, 9% nylon, 2% elastane',\n",
       "       '95% recycled polyester, 5% elastane',\n",
       "       '68% lyocell, 20% polyester, 10% viscose, 2% elastane',\n",
       "       '54% wool, 38% viscose, 8% polyester', '55% acrylic, 45% cotton',\n",
       "       '90% wool, 10% cashmere, material II',\n",
       "       '73% polyester, 17% polyamide, 8% silk, 2% elastane',\n",
       "       '60% wool, 20% polyamide, 20% viscose',\n",
       "       '83% viscose, 11% polyamide, 6% elastane',\n",
       "       '71% wool, 23% polyamide, 6% elastane', '98% wool, 2% polyamide',\n",
       "       '78% cotton, 22% silk', '85% cotton, 15% cashmere', '100% lyocell',\n",
       "       '76% cotton, 17% polyamide, 7% elastane, material II',\n",
       "       '98% wool, 2% cashmere', '12% elastane, polyamide',\n",
       "       '92% cotton, 6% elastomustier , 2% polyurethane',\n",
       "       '80% organic cotton, 20% polyamide',\n",
       "       '48% cotton, 48% modal, 4% elastane', '70% Tencel®, 30% nylon',\n",
       "       '76% cotton, 24% viscose', '60% cotton, 40% modal',\n",
       "       '66% viscose, 16% polyamide, 14% polyester, 4% elastane',\n",
       "       '65% wool, 33% polyamide, 2% elastane',\n",
       "       '35% alpaca wool, 31% nylon, 29% wool, 5% polyurethane',\n",
       "       '45% acrylic, 35% polyamide, 20% alpaca wool',\n",
       "       '54% wool, 42% polyester, 2% viscose, 1% acrylic',\n",
       "       '47% cotton, 30% viscose, 21% polyester, 2% elastane',\n",
       "       '60% viscose, 40% wool', '95% wool, 5% cashmere',\n",
       "       '95% cotton, 5% cashmere', '50% viscose, 50% wool',\n",
       "       '85% wool, 15% polyamide', '89% acetate, 11% polyester',\n",
       "       '82% polyamide, 18% elastane', '57% cotton, 43% silk',\n",
       "       '92% cotton, 8% polyamide', '52% polyester, 48% wool, material II',\n",
       "       '45% viscose, 39% cotton, 15% acetate, 1% elastane',\n",
       "       '74% cotton, 26% polyamide', '91% recycled polyamide, 9% elastane',\n",
       "       '87% cotton, 13% nylon', '84% cotton, 12% viscose, 4% polyamide',\n",
       "       '70% cotton, 30% silk, material II',\n",
       "       '34% viscose, 24% polyamide, 20% cotton, 20% wool, 2% cashmere',\n",
       "       '86% cotton, 12% polyester, 2% elastane',\n",
       "       '78% polyester, 13% cotton, 5% other fibres, 4% viscose',\n",
       "       '95% silk, 5% elastane', '70% wool, 30% mohair',\n",
       "       '41% viscose, 37% virgin wool, 20% polyamide, 2% polyester',\n",
       "       '53% polyester, 43% virgin wool, 4% elastane',\n",
       "       '32% alpaca wool, 32% wool (merino wool), 30% polyamide, 6% elastane',\n",
       "       '80% wool, 20% polyamide, material II',\n",
       "       '68% alpaca wool, 22% polyamide, 10% wool',\n",
       "       '57% wool, 19% polyamide, 14% cupro, 8% polyester, 2% elastane',\n",
       "       '80% cotton, 20% linen', '70% viscose, 30% polyester',\n",
       "       '50% alpaca wool, 45% polyamide, 5% wool',\n",
       "       '52% polyester, 43% wool, 5% elastane',\n",
       "       '80% viscose, 18% polyamide, 2% elastane',\n",
       "       '75% recycled polyamide, 25% elastane',\n",
       "       '39% cotton, 30% viscose, 27% polyamide, 4% elastane',\n",
       "       '54% cotton, 46% polyester, material II',\n",
       "       '50% wool (merino wool), 35% recycled wool, 15% silk',\n",
       "       '99% virgin wool, 1% elastane',\n",
       "       '62% recycled polyester, 38% polyester',\n",
       "       '80% recycled wool, 20% polyamide',\n",
       "       '90% wool (merino wool), 9% polyamide, 1% elastane',\n",
       "       '84% cotton, 16% polyester',\n",
       "       '55% alpaca wool, 35% polyamide, 10% wool', '54% silk, 45% wool',\n",
       "       '68% recycled polyester, 32% polyester',\n",
       "       '50% polyester, 20% cotton, 9% wool, 8% polyamide, 7% viscose, 4% acrylic, 2% other fibres, material II',\n",
       "       '92% cotton, 5% cashmere, 3% recycled polyester',\n",
       "       '54% silk, 46% wool', '52% acetate, 48% silk',\n",
       "       '59% viscose, 41% virgin wool', '73% viscose, 27% linen',\n",
       "       '70% cotton, 30% polyester, material II', '95% modal, 5% elastane',\n",
       "       '63% viscose, 32% nylon, 5% elastane', '89% silk, 11% elastane',\n",
       "       '49% polyamide, 48% cotton, 3% elastane',\n",
       "       '76% wool, 15% cotton, 7% viscose, 1% cashmere, 1% polyester',\n",
       "       '86% cotton, 14% silk', '65% virgin wool, 35% silk',\n",
       "       '71% viscose, 29% polyester, material II',\n",
       "       '71% polyamide, 29% elastane', '76% cotton, 24% nylon',\n",
       "       '48% wool (merino wool), 47% polyamide, 5% polyester',\n",
       "       '97% cotton, 1% wool (merino wool), 1% mohair, 1% nylon',\n",
       "       '51% cotton', 'silk', '97% cashmere, 3% wool',\n",
       "       '67% viscose, 33% cupro', '85% viscose, 15% polyamide',\n",
       "       '83% viscose, 13% polyester, 3% polyamide, 1% elastane',\n",
       "       '86% viscose, 14% polyester',\n",
       "       '67% acetate, 21% polyester, 12% polyamide',\n",
       "       '34% acrylic, 29% cotton, 21% wool, 10% polyester, 5% polyamide, 1% elastane',\n",
       "       '65% viscose, 35% polyamide',\n",
       "       '55% polyurethane, 45% polyester, material II',\n",
       "       '73% polyamide, 27% elastane, material II',\n",
       "       '73% viscose, 19% polyester, 8% metallic fibres',\n",
       "       '70% polyester, 30% wool', '78% cotton, 22% polyester',\n",
       "       '75% wool, 16% cotton, 7% viscose, 1% cashmere, 1% polyester',\n",
       "       '87% wool, 13% polyester', '73% cotton, 27% silk',\n",
       "       '62% polyester, 30% wool, 7% acrylic, 1% nylon',\n",
       "       '62% alpaca wool, 26% wool, 12% silk',\n",
       "       '93% wool, 6% cashmere, 1% elastane',\n",
       "       '51% wool, 34% acrylic, 15% polyamide',\n",
       "       '81% cotton, 16% nylon, 3% elastane',\n",
       "       '86% nylon, 9% metallic fibres, 5% elastane',\n",
       "       '55% wool, 18% polyamide, 18% viscose, 8% polyester, 1% elastane',\n",
       "       '78% wool, 18% cotton, 4% polyamide', '78% cashmere, 22% wool',\n",
       "       '94% viscose, 6% polyester',\n",
       "       '65% cotton, 19% viscose, 15% polyester, 1% metallic fibres',\n",
       "       '70% wool, 30% polyester', '81% viscose, 18% nylon, 1% elastane',\n",
       "       '50% mohair, 32% wool, 18% polyamide', '53% cotton, 47% silk',\n",
       "       '67% cotton, 33% silk, material II',\n",
       "       '75% acrylic, 15% wool, 10% alpaca wool',\n",
       "       '53% viscose, 44% acetate, 3% elastane',\n",
       "       '70% viscose, 30% metallic fibres',\n",
       "       '64% viscose, 32% acetate, 4% elastane',\n",
       "       '81% polyamide, 19% elastane',\n",
       "       '53% polyester, 43% wool, 4% elastane',\n",
       "       '44% cashmere, 37% alpaca wool, 13% virgin wool, 6% silk',\n",
       "       '90% virgin wool, 6% mohair, 3% polyamide, 1% wool',\n",
       "       '100% shearling', '55% cotton, 45% viscose, material II',\n",
       "       '100% polyethylene, material II', '74% cashmere, 26% silk',\n",
       "       '82% wool (merino wool), 18% polyester',\n",
       "       '34% polyamide, 30% viscose, 15% acetate, 10% polyester, 5% mohair, 5% wool, 3% metallic fibres',\n",
       "       '65% polyester, 35% cotton, material II',\n",
       "       '66% polyester, 28% viscose, 6% elastane',\n",
       "       '70% cotton, 14% polyester, 14% lyocell, 2% elastane',\n",
       "       '97% polyester, 3% elastane, material II',\n",
       "       '65% viscose, 30% nylon, 5% elastane',\n",
       "       '23% acrylic, 23% polyamide, 20% mohair, 20% wool, 14% viscose',\n",
       "       '58% cotton, 42% polyester', '70% wool, 20% nylon, 10% cashmere',\n",
       "       '80% cotton, 20% nylon', '94% cupro, 6% elastane',\n",
       "       '64% cashmere, 36% cotton',\n",
       "       '54% acrylic, 46% polyester, material II',\n",
       "       '83% cupro, 17% elastane', '90% viscose, 10% wool',\n",
       "       '85% polyamide, 10% polyester, 5% metallic fibres',\n",
       "       '70% wool, 19% mohair, 9% polyamide, 2% alpaca wool',\n",
       "       '55% silk, 45% cotton, material II',\n",
       "       '54% linen, 24% polyester, 20% wool, 2% elastane',\n",
       "       '52% polyester, 48% wool',\n",
       "       '88% recycled polyamide, 12% elastane, material II',\n",
       "       '54% linen, 46% cotton', '82% viscose, 18% metallic fibres',\n",
       "       '93% cotton, 5% polyester, 2% elastane',\n",
       "       '64% polyester, 26% polyamide, 10% metallic fibres'], dtype=object)"
      ]
     },
     "execution_count": 34,
     "metadata": {},
     "output_type": "execute_result"
    }
   ],
   "source": [
    "all_data['Product Material'].unique()"
   ]
  },
  {
   "cell_type": "code",
   "execution_count": 35,
   "id": "5e8b1532",
   "metadata": {},
   "outputs": [
    {
     "data": {
      "text/plain": [
       "771"
      ]
     },
     "execution_count": 35,
     "metadata": {},
     "output_type": "execute_result"
    }
   ],
   "source": [
    "all_data['Product Material'].nunique()"
   ]
  },
  {
   "cell_type": "code",
   "execution_count": 36,
   "id": "beed7a0b",
   "metadata": {},
   "outputs": [
    {
     "data": {
      "text/plain": [
       "100% cotton                                                       582\n",
       "100% silk                                                         138\n",
       "100% viscose                                                      117\n",
       "100% cashmere                                                     105\n",
       "100% wool                                                         100\n",
       "                                                                 ... \n",
       "93% modal, 7% elastane                                              1\n",
       "84% cotton, 12% viscose, 4% polyamide                               1\n",
       "54% acrylic, 46% polyester, material II                             1\n",
       "92% cotton, 6% polyester, 2% elastane                               1\n",
       "47% acrylic, 22% cotton, 12% alpaca wool, 11% wool, 8% viscose      1\n",
       "Name: Product Material, Length: 771, dtype: int64"
      ]
     },
     "execution_count": 36,
     "metadata": {},
     "output_type": "execute_result"
    }
   ],
   "source": [
    "all_data['Product Material'].value_counts()"
   ]
  },
  {
   "cell_type": "code",
   "execution_count": 37,
   "id": "1de9b815",
   "metadata": {},
   "outputs": [
    {
     "data": {
      "text/plain": [
       "array(['100% polyester, fully lined', '57% cupro, 43% polyester',\n",
       "       '73% polyester, 27% elastane',\n",
       "       '86% polyester, 14% elastane, fully lined',\n",
       "       '92% cupro, 8% elastane, fully lined', '100% cotton',\n",
       "       '98% polyester, 2% elastane, fully lined',\n",
       "       '100% viscose, fully lined', '100% polyamide, fully lined',\n",
       "       '100% cupro, fully lined, pocket lining',\n",
       "       '64% acetate, 36% polyester', '100% polyester, partially lined',\n",
       "       '53% cupro, 47% cotton, partially lined',\n",
       "       '51% viscose, 49% cotton, fully lined',\n",
       "       '80% polyamide, 20% elastane',\n",
       "       '95% polyester, 5% elastane, fully lined',\n",
       "       '72% nylon, 28% elastane, partially lined',\n",
       "       '82% viscose, 18% polyamide, fully lined',\n",
       "       '100% silk, fully lined', '100% polyester',\n",
       "       '100% polyester, fully lined, pocket lining', 'fully lined',\n",
       "       '97% polyester, 3% elastane, fully lined',\n",
       "       '73% acetate, 27% silk, fully lined',\n",
       "       '100% recycled polyamide, fully lined',\n",
       "       '100% cotton, partially lined', '100% cotton, lining II',\n",
       "       '100% silk', '100% viscose', '53% viscose, 47% cupro',\n",
       "       '100% cotton, fully lined',\n",
       "       '65% acetate, 35% viscose, fully lined',\n",
       "       '65% polyester, 35% cotton, partially lined',\n",
       "       '91% viscose, 9% elastane, fully lined',\n",
       "       '80% polyamide, 20% elastane, fully lined',\n",
       "       '96% viscose, 4% elastane, partially lined',\n",
       "       '64% acetate, 36% viscose, partially lined',\n",
       "       '98% silk, 2% elastane, fully lined',\n",
       "       '100% cupro, partially lined, lining II',\n",
       "       '70% polyamide, 30% polyester, fully lined',\n",
       "       '100% cupro, fully lined',\n",
       "       '98% silk, 2% elastane, partially lined',\n",
       "       '100% viscose, partially lined',\n",
       "       '80% polyamide, 20% elastane, partially lined',\n",
       "       '86% polyamide, 14% elastane, fully lined',\n",
       "       '100% cupro, partially lined',\n",
       "       '81% polyamide, 19% elastane, lining',\n",
       "       '85% polyamide, 15% elastane', '100% cupro, lining II', 'viscose',\n",
       "       '76% acetate, 24% silk, fully lined', '64% polyester, fully lined',\n",
       "       '100% cotton, fully lined, sleeve lining',\n",
       "       '78% polyamide, 22% elastane, fully lined',\n",
       "       '82% triacetate, 18% polyester, fully lined', 'partially lined',\n",
       "       '96% cotton, 4% elastane, partially lined',\n",
       "       '59% cupro, 41% silk, fully lined',\n",
       "       '77% polyamide, 23% elastane, fully lined',\n",
       "       '100% viscose, partially lined, pocket lining',\n",
       "       '86% polyamide, 14% elastane', 'partially lined, pocket lining',\n",
       "       '92% cupro, 8% elastane',\n",
       "       '85% polyamide, 15% elastane, fully lined',\n",
       "       '63% viscose, 37% silk, fully lined',\n",
       "       '100% viscose, fully lined, pocket lining',\n",
       "       '85% polyester, 35% cotton',\n",
       "       '56% acetate, 44% viscose, fully lined', '60% cupro, 40% cotton',\n",
       "       '100% cupro', '65% polyester, 35% cotton',\n",
       "       '60% cupro, 40% cotton, pocket lining',\n",
       "       '100% virgin wool, fully lined', '65% polyester, 36% cotton',\n",
       "       '100% silk, partially lined',\n",
       "       '67% viscose, 33% polyester, partially lined', '100% polyamide',\n",
       "       '91% viscose, 9% elastane',\n",
       "       '100% polyester, fully lined, sleeve lining',\n",
       "       '100% polyester, fully lined, lining II',\n",
       "       '62% acetate, 38% polyester, fully lined',\n",
       "       '100% silk, pocket lining',\n",
       "       '65% viscose, 35% polyester, partially lined, pocket lining',\n",
       "       '53% cupro, 47% polyester, partially lined',\n",
       "       '53% cupro, 47% polyester, fully lined',\n",
       "       '94% silk, 6% elastane, fully lined',\n",
       "       '68% acetate, 32% polyester, partially lined',\n",
       "       '70% cotton, 30% silk, partially lined', '97% cotton, 3% elastane',\n",
       "       '99% polyamide, 1% elastane, partially lined',\n",
       "       '95% polyester, 5% elastane, partially lined',\n",
       "       '100% polyamide, partially lined',\n",
       "       '65% acetate, 35% polyester, fully lined',\n",
       "       'fully lined, pocket lining', '93% silk, 7% elastane',\n",
       "       '52% viscose, 48% acetate, fully lined',\n",
       "       '97% cotton, 2.4% viscose, 0.6% elastane, fully lined',\n",
       "       '100% acetate, fully lined',\n",
       "       '100% cotton, partially lined, lining II',\n",
       "       '90% polyester, 10% elastane, fully lined',\n",
       "       '85% recycled nylon, 15% elastane, fully lined',\n",
       "       '100% viscose, fully lined, sleeve lining',\n",
       "       '94% polyester, 6% elastane',\n",
       "       '92% polyester, 8% elastane, fully lined', '74% acetate, 26% silk',\n",
       "       '87% nylon, 13% elastane, partially lined',\n",
       "       '72% nylon, 28% elastane, fully lined', '100% polyamide, lining',\n",
       "       '91% polyamide, 9% elastane, fully lined',\n",
       "       '78% polyamide, 22% elastane',\n",
       "       '76% acetate, 24% silk, partially lined',\n",
       "       '65% viscose, 35% polyester, fully lined',\n",
       "       '100% silk, fully lined, pocket lining',\n",
       "       '80% triacetate, 20% polyester', '95% polyester, 5% elastane',\n",
       "       '100% shearling, fully lined',\n",
       "       '74% acetate, 26% silk, fully lined',\n",
       "       '64% acetate, 36% polyester, partially lined',\n",
       "       '100% linen, fully lined',\n",
       "       '50% elastane, 50% viscose, partially lined',\n",
       "       '100% cotton, sleeve lining',\n",
       "       '87% polyamide, 13% elastane, fully lined',\n",
       "       '53% viscose, 47% cupro, fully lined', '100% nylon, fully lined',\n",
       "       '97% polyester, 3% elastane, partially lined',\n",
       "       '100% viscose, partially lined, sleeve lining',\n",
       "       '97% viscose, 3% elastane, fully lined',\n",
       "       '73% polyamide, 27% elastane, fully lined',\n",
       "       '93% silk, 7% elastane, fully lined', '63% viscose, 37% polyester',\n",
       "       '85% viscose, 10% polyamide, 5% elastane, partially lined',\n",
       "       '90% polyamide, 10% elastane, fully lined',\n",
       "       '52% viscose, 48% cotton',\n",
       "       '65% viscose, 35% cotton, partially lined, pocket lining',\n",
       "       '100% elastomustier , partially lined, detachable',\n",
       "       '100% recycled polyester, fully lined',\n",
       "       'lamb leather, fully lined',\n",
       "       '100% viscose, partially lined, lining II',\n",
       "       '78% recycled polyamide, 22% elastane, fully lined',\n",
       "       '36% polyester, 32% acetate, 32% cupro',\n",
       "       '67% viscose, 33% polyester, fully lined',\n",
       "       '51% viscose, 49% cotton, partially lined',\n",
       "       '36% polyester, 32% acetate, 32% cupro, partially lined',\n",
       "       '85% acetate, 10% silk, 5% polyamide',\n",
       "       '67% acetate, 33% polyester, fully lined',\n",
       "       '89% polyamide, 11% elastane',\n",
       "       '96% silk, 4% elastane, fully lined',\n",
       "       '100% polyester, partially lined, lining II',\n",
       "       '85% acetate, 10% silk, 5% polyamide, fully lined',\n",
       "       '65% acetate, 35% polyester',\n",
       "       '92% polyamide, 8% elastane, fully lined',\n",
       "       '63% viscose, 37% polyester, partially lined',\n",
       "       '52% viscose, 48% cotton, fully lined',\n",
       "       '53% polyester, 47% viscose, fully lined', '96% silk, 4% elastane',\n",
       "       'cotton, partially lined',\n",
       "       '82% cotton, 18% polyester, fully lined, sleeve lining',\n",
       "       '60% acetate, 40% viscose, fully lined',\n",
       "       '55% polyamide, 45% recycled polyamide, fully lined',\n",
       "       '100% nylon, lining II', '65% polyester, 35% cotton, fully lined',\n",
       "       'polyester, fully lined', '75% nylon, 25% elastane',\n",
       "       '52% viscose, 48% cotton, fully lined, sleeve lining',\n",
       "       '53% cotton, 28% polyamide, 19% elastane, partially lined',\n",
       "       '62% acetate, 38% polyester',\n",
       "       '55% polyamide, 45% recycled polyamide', '100% nylon',\n",
       "       '74% nylon, 26% elastane, fully lined',\n",
       "       '70% cotton, 30% polyamide',\n",
       "       '96% acetate, 4% elastane, fully lined',\n",
       "       '89% polyamide, 11% elastane, fully lined',\n",
       "       '65% polyester, 35% cotton, fully lined, sleeve lining',\n",
       "       '78% polyester, 22% elastane, fully lined',\n",
       "       '60% acetate, 40% cupro, partially lined',\n",
       "       '100% silk, partially lined, sleeve lining',\n",
       "       '85% nylon, 15% elastane, fully lined',\n",
       "       '70% polyester, 30% cotton, partially lined',\n",
       "       '100% recycled polyester', '59% silk, 41% cupro, fully lined',\n",
       "       '92% silk, 8% elastane, partially lined',\n",
       "       '82% polyamide, 18% elastane, fully lined',\n",
       "       '97% cotton, 3% elastane, partially lined',\n",
       "       '72% polyamide, 28% elastane, fully lined',\n",
       "       '85% cotton, 15% polyester', '100% cotton, pocket lining',\n",
       "       '92% silk, 8% elastane',\n",
       "       '52% viscose, 48% cotton, partially lined',\n",
       "       '57% polyester, 43% wool, fully lined',\n",
       "       '88% polyester, 12% elastane, partially lined, detachable',\n",
       "       '91% viscose, 9% elastane, partially lined',\n",
       "       '53% polyester, 47% viscose, partially lined',\n",
       "       '90% polyester, 10% elastane, partially lined',\n",
       "       '80% polyester, 20% cotton', '63% viscose, 37% silk',\n",
       "       '78% recycled polyamide, 22% elastane, partially lined',\n",
       "       '52% viscose, 48% cotton, sleeve lining',\n",
       "       '93% polyamide, 7% elastane', '100% cotton, lining',\n",
       "       '96% viscose, 4% elastane, fully lined',\n",
       "       '90% nylon, 10% elastane, fully lined',\n",
       "       '91% viscose, 9% elastane, partially lined, detachable',\n",
       "       '65% acetate, 35% polyester, partially lined',\n",
       "       '50% elastane, 50% viscose', '55% viscose, 45% polyester',\n",
       "       '68% acetate, 32% polyester', '91% silk, 9% elastane',\n",
       "       '92% cotton, 8% elastane', 'fully lined, fabric',\n",
       "       '100% silk, fully lined, partially lined',\n",
       "       '76% polyamide, 24% elastane, fully lined',\n",
       "       '82% acetate, 18% nylon',\n",
       "       '50% cotton, 50% polyester, partially lined',\n",
       "       '57% cotton, 29% acetate, 7% linen, 7% silk',\n",
       "       '100% polyamide, partially lined, lining II',\n",
       "       '100% cotton, partially lined, pocket lining',\n",
       "       '82% polyamide, 18% elastane, partially lined',\n",
       "       '88% polyester, 12% elastane',\n",
       "       '82% cotton, 18% polyester, fully lined',\n",
       "       '65% acetate, 35% viscose, partially lined, lining II',\n",
       "       '100% recycled polyamide', '72% polyamide, 28% elastane',\n",
       "       '63% viscose, 37% silk, partially lined',\n",
       "       '92% polyamide, 8% elastane', '65% acetate, 35% viscose',\n",
       "       '91% silk, 9% elastane, fully lined',\n",
       "       '94% silk, 6% elastane, partially lined',\n",
       "       '52% viscose, 48% cupro, fully lined',\n",
       "       '54% viscose, 46% polyester, fully lined',\n",
       "       '64% silk, 16% cotton, 12% elastane, 8% polyamide, fully lined',\n",
       "       '84% silk, 30% polyamide, 6% elastane',\n",
       "       '89% polyester, 11% elastane, fully lined, lining II',\n",
       "       '63% viscose, 37% polyester, fully lined',\n",
       "       '92% polyamide, 8% elastane, partially lined',\n",
       "       '54% cotton, 46% polyester',\n",
       "       '59% viscose, 41% cupro, partially lined',\n",
       "       '82% acetate, 18% silk, partially lined',\n",
       "       '78% polyamide, 22% elastane, partially lined',\n",
       "       '98% polyester, 2% elastane', '76% acetate, 26% silk, fully lined',\n",
       "       '93% polyamide, 7% elastane, fully lined',\n",
       "       '75% acetate, 25% silk, partially lined, detachable',\n",
       "       '52% viscose, 48% cotton, partially lined, sleeve lining',\n",
       "       '85% polyester, 15% elastane, fully lined',\n",
       "       '70% polyester, 30% cotton', '82% triacetate, 18% polyester',\n",
       "       '82% acetate, 18% silk, fully lined',\n",
       "       '65% acetate, 35% viscose, partially lined',\n",
       "       '95% silk, 5% elastane', '100% silk, partially lined, detachable',\n",
       "       '52% polyester, 48% cotton', '100% cashmere, fully lined'],\n",
       "      dtype=object)"
      ]
     },
     "execution_count": 37,
     "metadata": {},
     "output_type": "execute_result"
    }
   ],
   "source": [
    "all_data['Product Lining'].unique()"
   ]
  },
  {
   "cell_type": "code",
   "execution_count": 38,
   "id": "1dd01181",
   "metadata": {},
   "outputs": [
    {
     "data": {
      "text/plain": [
       "252"
      ]
     },
     "execution_count": 38,
     "metadata": {},
     "output_type": "execute_result"
    }
   ],
   "source": [
    "all_data['Product Lining'].nunique()"
   ]
  },
  {
   "cell_type": "code",
   "execution_count": 39,
   "id": "e3dda393",
   "metadata": {},
   "outputs": [
    {
     "data": {
      "text/plain": [
       "100% polyester, fully lined                   2194\n",
       "fully lined                                     52\n",
       "100% cotton, partially lined                    46\n",
       "100% polyamide, fully lined                     39\n",
       "100% cotton                                     39\n",
       "                                              ... \n",
       "100% cashmere, fully lined                       1\n",
       "62% acetate, 38% polyester                       1\n",
       "65% polyester, 36% cotton                        1\n",
       "100% cotton, lining II                           1\n",
       "82% triacetate, 18% polyester, fully lined       1\n",
       "Name: Product Lining, Length: 252, dtype: int64"
      ]
     },
     "execution_count": 39,
     "metadata": {},
     "output_type": "execute_result"
    }
   ],
   "source": [
    "all_data['Product Lining'].value_counts()"
   ]
  },
  {
   "cell_type": "code",
   "execution_count": 40,
   "id": "3056751f",
   "metadata": {},
   "outputs": [
    {
     "data": {
      "text/plain": [
       "100% polyester, fully lined                   2194\n",
       "fully lined                                     52\n",
       "100% cotton, partially lined                    46\n",
       "100% polyamide, fully lined                     39\n",
       "100% cotton                                     39\n",
       "                                              ... \n",
       "100% cashmere, fully lined                       1\n",
       "62% acetate, 38% polyester                       1\n",
       "65% polyester, 36% cotton                        1\n",
       "100% cotton, lining II                           1\n",
       "82% triacetate, 18% polyester, fully lined       1\n",
       "Name: Product Lining, Length: 252, dtype: int64"
      ]
     },
     "execution_count": 40,
     "metadata": {},
     "output_type": "execute_result"
    }
   ],
   "source": [
    "all_data['Product Lining'].value_counts()"
   ]
  },
  {
   "cell_type": "code",
   "execution_count": 41,
   "id": "7a9278ee",
   "metadata": {},
   "outputs": [
    {
     "data": {
      "text/plain": [
       "array(['hand wash', 'machine wash cold', 'dry clean',\n",
       "       'machine wash at 30 degrees', 'specialist clean', 'do not clean',\n",
       "       'spot clean', 'machine wash at 40 degrees', 'machine wash'],\n",
       "      dtype=object)"
      ]
     },
     "execution_count": 41,
     "metadata": {},
     "output_type": "execute_result"
    }
   ],
   "source": [
    "all_data['Product Care Instructions'].unique()"
   ]
  },
  {
   "cell_type": "code",
   "execution_count": 42,
   "id": "434eceea",
   "metadata": {},
   "outputs": [
    {
     "data": {
      "text/plain": [
       "9"
      ]
     },
     "execution_count": 42,
     "metadata": {},
     "output_type": "execute_result"
    }
   ],
   "source": [
    "all_data['Product Care Instructions'].nunique()"
   ]
  },
  {
   "cell_type": "code",
   "execution_count": 43,
   "id": "fe59d166",
   "metadata": {},
   "outputs": [
    {
     "data": {
      "text/plain": [
       "dry clean                     1449\n",
       "hand wash                      812\n",
       "machine wash at 30 degrees     448\n",
       "machine wash cold              191\n",
       "specialist clean                85\n",
       "do not clean                    32\n",
       "machine wash at 40 degrees      24\n",
       "machine wash                     7\n",
       "spot clean                       2\n",
       "Name: Product Care Instructions, dtype: int64"
      ]
     },
     "execution_count": 43,
     "metadata": {},
     "output_type": "execute_result"
    }
   ],
   "source": [
    "all_data['Product Care Instructions'].value_counts()"
   ]
  },
  {
   "cell_type": "code",
   "execution_count": 44,
   "id": "6324874f",
   "metadata": {},
   "outputs": [
    {
     "data": {
      "text/plain": [
       "array(['USA', 'China', 'Turkey', 'Portugal', 'Italy', 'India', 'Romania',\n",
       "       'UK', 'France', 'Colombia', 'Philippines', 'Peru', 'Vietnam',\n",
       "       'Indonesia', 'Greece', 'Moldova', 'Japan', 'Bulgaria', 'Poland',\n",
       "       'Hungary', 'Australia', 'Tunisia', 'Scotland', 'Morocco',\n",
       "       'Madagascar', 'Mongolia', 'Serbia', 'Korea', 'Slovakia',\n",
       "       'Slovenia', 'England'], dtype=object)"
      ]
     },
     "execution_count": 44,
     "metadata": {},
     "output_type": "execute_result"
    }
   ],
   "source": [
    "all_data['Product Manufacturing Country'].unique()"
   ]
  },
  {
   "cell_type": "code",
   "execution_count": 45,
   "id": "9e074297",
   "metadata": {},
   "outputs": [
    {
     "data": {
      "text/plain": [
       "31"
      ]
     },
     "execution_count": 45,
     "metadata": {},
     "output_type": "execute_result"
    }
   ],
   "source": [
    "all_data['Product Manufacturing Country'].nunique()"
   ]
  },
  {
   "cell_type": "code",
   "execution_count": 46,
   "id": "d2711358",
   "metadata": {},
   "outputs": [
    {
     "data": {
      "text/plain": [
       "China          2048\n",
       "Italy           457\n",
       "Portugal         94\n",
       "USA              88\n",
       "India            71\n",
       "Turkey           52\n",
       "Indonesia        48\n",
       "Romania          26\n",
       "Vietnam          24\n",
       "Tunisia          20\n",
       "France           17\n",
       "UK               17\n",
       "Colombia         17\n",
       "Bulgaria         12\n",
       "Peru              8\n",
       "Morocco           8\n",
       "Poland            7\n",
       "Hungary           6\n",
       "Philippines       6\n",
       "Moldova           4\n",
       "Japan             4\n",
       "Korea             3\n",
       "Madagascar        2\n",
       "Mongolia          2\n",
       "England           2\n",
       "Scotland          2\n",
       "Slovenia          1\n",
       "Serbia            1\n",
       "Greece            1\n",
       "Slovakia          1\n",
       "Australia         1\n",
       "Name: Product Manufacturing Country, dtype: int64"
      ]
     },
     "execution_count": 46,
     "metadata": {},
     "output_type": "execute_result"
    }
   ],
   "source": [
    "all_data['Product Manufacturing Country'].value_counts()"
   ]
  },
  {
   "cell_type": "code",
   "execution_count": 47,
   "id": "27a0d78c",
   "metadata": {},
   "outputs": [
    {
     "data": {
      "text/plain": [
       "array(['Black', '225-41', 'White', '83', 'Dk Jade', '225-60',\n",
       "       'Dark Orchid', 'Rose Garden', '225-38', 'Hickory', 'Noir',\n",
       "       'Mediteranee', 'Imprime Effigie', 'Olive/Ecru', '225-490', 'Flag',\n",
       "       '6040', 'Carmine', '225-14', 'Orange/Black/Blue',\n",
       "       'Orange/Blue/Yellow', 'Black Truffle', 'Pale Mineral', 'Moon',\n",
       "       'Sand Shell', 'Green Purple', 'Navy', 'Petal', 'Blue/Black',\n",
       "       'Light Hay', 'Rust Amber', '225-83', 'Balsamic', 'Lilas',\n",
       "       'Olive Green', 'Brown', 'Monarca Cream', 'Camel', 'Verde',\n",
       "       'Black/Green', 'Pale Lemon', 'Light Blue', 'Lt Rosa', 'Ivory',\n",
       "       'Black Ivory', '225-54', 'Honey', 'Off White', 'Ecru', 'Coal',\n",
       "       'Chalk', 'Ash', 'Pistachio', '225-10', 'Optic White', 'Smoke',\n",
       "       'Biscuit', 'Neutral', 'Plum Wine', 'Rouge', 'Nero', 'Blue White',\n",
       "       'White Sand', 'Mid Grey', '225-14/82', 'Zinnia', 'Heat', 'Merlot',\n",
       "       'Noir Alaia', 'Parfait', 'Silver', 'Bluette', 'Blck-Wht', 'Night',\n",
       "       'Green', 'Light Pink', 'Soft White', 'Pistacchio', 'Arancio',\n",
       "       'White/Multicolor', 'Beige/Black', 'Burnt Coral', 'Taupe',\n",
       "       'Postman', 'Light Grey', 'Winsome Orchid', 'Teal', 'Navi',\n",
       "       'Palisades', '225-61', 'Beige', 'Rosetta', 'Pink',\n",
       "       'Plaster Puncture', '225-81', 'Rosa', 'Bracken', 'Chalk/Black',\n",
       "       'Chocolate', 'Ballet pink', 'Breton', 'Coconut', 'Wisteria',\n",
       "       'Snow white', 'Grey', 'Rosegold', '225-33', 'Creamy White',\n",
       "       '225-90', 'Hand Drawn Logotype', 'Bubblegum Lilac', 'Leopard',\n",
       "       'Acid Green', 'Nature/Noir', 'Plum Night', 'Sky Blue', 'Latte',\n",
       "       'Multicolor', 'Multiberry Multi', '225-770',\n",
       "       'White / Green Stones', 'Ecru-Red', 'Flirt', 'Caramel',\n",
       "       'Light Pink/Plum', 'Blue', 'Sky', 'Bloody mary', 'Denim Wash',\n",
       "       'Petroleum Green', 'Lucky Charms', 'Lily Stone', 'Almond', '0909',\n",
       "       'Pop Pink', 'Champagne', 'Tan', 'Tan/Tan Stones', 'Mint', 'Yellow',\n",
       "       'Slate', 'Golf Green', 'Naturel/Marron/Beige', 'WARM BEIGE',\n",
       "       'Craie', 'Off-White', 'Warm beige/Multi', 'Desert', 'Rosewood',\n",
       "       '1000', 'Fuschia', 'Latte Unito', 'Ganache', 'Hibiscus',\n",
       "       'Porecelain', 'Bianco', 'Grigio Medio', 'H Dove Oat', 'Milk Honey',\n",
       "       \"Ecru'\", 'Lilla', 'Fondo Nero', 'EAP Noir', 'Rosso', 'Moss Green',\n",
       "       'Chaga Mushroom', 'Blu Gris Chine', 'Khaki', 'Powder/Black',\n",
       "       'Noce', 'Beet', 'Macadamia', 'Cream', 'Blue Ecru', 'Cosmic Blue',\n",
       "       'Fuchsia Brown', 'Emerald', 'Red/Black', 'Cerise',\n",
       "       'Natural Melange', 'Cayenne Melange/Acorn Melange',\n",
       "       'Deep Taupe Black', 'Coffee Bean', 'Fuchsia', 'Plaid Bloom',\n",
       "       'Pink Moon', 'Blu Jeans', 'Orange Poppy', 'Basil Space Dye',\n",
       "       'Sunrise Pink', 'Neon Vert/Noir', 'Slipper Orchid', 'Sunrise',\n",
       "       'Fluo Pink', 'Red Raven', 'Olivine', 'Bone', 'Grey Melange',\n",
       "       'Corteccia', 'Meooow', 'Orange Poppy Pink Moon',\n",
       "       'Yellow Ditsy Floral', 'Light Cream', 'Fuxia+English Rose',\n",
       "       'Ultra Violet', 'Jewel Blue', 'Dusk', 'Almond Butter', 'Antracite',\n",
       "       'Natural', 'Butter Black Stripe', 'Stone', 'Prodotto Ital F.Bco',\n",
       "       'Blossom pink', 'Blue tie print', 'Cognac Multi',\n",
       "       'Close your eyes', 'Beige chine', 'Athletic Heather Grey', 'Red',\n",
       "       'Forever Blue', 'Dutch', 'Brown White', 'Grass Green', 'Bloom',\n",
       "       'Ecru Grigio', 'Newport Navy', 'H White', 'Dark Pine', 'Jolt',\n",
       "       'Collection Camel', 'Pecan', 'Ash Black', 'Lilac Ink Floral',\n",
       "       'Cobble Stone', 'Key Lime', 'Egret', 'Swan', 'Tropical Yellow',\n",
       "       'Creme', 'Riviera', 'Blue Caraibean', 'Amazon', 'Purple Iris',\n",
       "       'Iced Aqua Marle', 'Burgundy', 'Orange Rose', 'Olive',\n",
       "       'Blue Multi', 'Flan', 'Pasta Fdo. Giallo', 'Sand Beige',\n",
       "       'White khaki', 'Multi Stripe', 'Citrus', 'Serpentine',\n",
       "       'White Powder', 'Raspberry', 'Wheat', 'Avorio/Dark Blue', 'Purple',\n",
       "       'Blueleaf', '225-73', 'Carta Da', 'Orange', 'Avorio/Nero',\n",
       "       'Flamingo', 'Multicoloured', 'Oat', 'Optical White', 'Bahama',\n",
       "       'Blanc Noir', 'Fuchsia Fl', 'Dahlia', 'Dk Lake', 'Mesa Rose Snake',\n",
       "       'Black/Cream', 'Mulberry', 'Snow Leopard', 'Pink Mistral',\n",
       "       'Olivia', 'Bright Orange Poppy Red', 'Zebra Sepia', 'Gardenia',\n",
       "       'Mykonos', 'Red Chagal', 'Ivory/Pearl/Clear', 'Cyclamen',\n",
       "       'Merlot Multi', 'Havana', 'Chocolat', 'Lime', 'Tie Dye', 'Camelia',\n",
       "       'College Green', 'Papaya', 'Rainbow Flower Market', 'Black Dot',\n",
       "       'Cucumber Blurred Animal', 'Blue Splash', 'Natural White',\n",
       "       'Floral', 'Branch', 'Tris Maioliche F. Bo', 'Striped', 'Pearl',\n",
       "       'Dark Silver', 'Gjx Blanc Casse/Noir', 'Absinthe',\n",
       "       'White Blue Emb', 'Fuchsia white', 'Petunia', 'Blu',\n",
       "       'Lilac Chiffon', 'Tiger Red', 'Polo Black', 'Multicolor Grey 1',\n",
       "       'Cinnamon Space Dye', 'Neon Horizon', 'Bloody Mary', 'Tomato',\n",
       "       'Indigo', 'Mango Sorbet', 'Hazelnut', 'Lake Blue',\n",
       "       'Dust Autumn Sun Brown Sugar', 'Nude'], dtype=object)"
      ]
     },
     "execution_count": 47,
     "metadata": {},
     "output_type": "execute_result"
    }
   ],
   "source": [
    "all_data['Product Colour'].unique()"
   ]
  },
  {
   "cell_type": "code",
   "execution_count": 48,
   "id": "379ffaad",
   "metadata": {},
   "outputs": [
    {
     "data": {
      "text/plain": [
       "327"
      ]
     },
     "execution_count": 48,
     "metadata": {},
     "output_type": "execute_result"
    }
   ],
   "source": [
    "all_data['Product Colour'].nunique()"
   ]
  },
  {
   "cell_type": "code",
   "execution_count": 49,
   "id": "3ab7857a",
   "metadata": {},
   "outputs": [
    {
     "data": {
      "text/plain": [
       "Black                2567\n",
       "White                  10\n",
       "Ivory                   8\n",
       "Pink                    8\n",
       "Blue                    6\n",
       "                     ... \n",
       "Papaya                  1\n",
       "Lime                    1\n",
       "Orange Poppy            1\n",
       "White khaki             1\n",
       "Pasta Fdo. Giallo       1\n",
       "Name: Product Colour, Length: 327, dtype: int64"
      ]
     },
     "execution_count": 49,
     "metadata": {},
     "output_type": "execute_result"
    }
   ],
   "source": [
    "all_data['Product Colour'].value_counts()"
   ]
  },
  {
   "cell_type": "markdown",
   "id": "dd1ed761",
   "metadata": {},
   "source": [
    "## `Data Visualization`"
   ]
  },
  {
   "cell_type": "code",
   "execution_count": 50,
   "id": "d778df6d",
   "metadata": {},
   "outputs": [
    {
     "data": {
      "text/plain": [
       "<seaborn.axisgrid.FacetGrid at 0x1f7967d3e50>"
      ]
     },
     "execution_count": 50,
     "metadata": {},
     "output_type": "execute_result"
    },
    {
     "data": {
      "image/png": "[encoded data removed]",
      "text/plain": [
       "<Figure size 360x360 with 1 Axes>"
      ]
     },
     "metadata": {},
     "output_type": "display_data"
    }
   ],
   "source": [
    "sns.displot(all_data['Product Price'], kde=False, bins=30, color='m')"
   ]
  },
  {
   "cell_type": "code",
   "execution_count": 51,
   "id": "cdb60388",
   "metadata": {},
   "outputs": [
    {
     "data": {
      "text/plain": [
       "<AxesSubplot:xlabel='Product Price', ylabel='Density'>"
      ]
     },
     "execution_count": 51,
     "metadata": {},
     "output_type": "execute_result"
    },
    {
     "data": {
      "image/png": "[encoded data removed]",
      "text/plain": [
       "<Figure size 1224x1224 with 1 Axes>"
      ]
     },
     "metadata": {},
     "output_type": "display_data"
    }
   ],
   "source": [
    "sns.kdeplot(all_data['Product Price'], shade=True, color='m')"
   ]
  },
  {
   "cell_type": "code",
   "execution_count": null,
   "id": "170319da",
   "metadata": {},
   "outputs": [],
   "source": []
  },
  {
   "cell_type": "code",
   "execution_count": 52,
   "id": "e2130df3",
   "metadata": {},
   "outputs": [
    {
     "data": {
      "text/plain": [
       "<matplotlib.legend.Legend at 0x1f79702fd00>"
      ]
     },
     "execution_count": 52,
     "metadata": {},
     "output_type": "execute_result"
    },
    {
     "data": {
      "image/png": "[encoded data removed]",
      "text/plain": [
       "<Figure size 1080x576 with 1 Axes>"
      ]
     },
     "metadata": {},
     "output_type": "display_data"
    }
   ],
   "source": [
    "plt.figure(figsize = (15,8))\n",
    "data['Product Lining'].value_counts().head(10).plot(kind='bar' , color = '#400082')\n",
    "plt.legend()"
   ]
  },
  {
   "cell_type": "code",
   "execution_count": 53,
   "id": "a8410b0c",
   "metadata": {},
   "outputs": [
    {
     "data": {
      "text/plain": [
       "<matplotlib.legend.Legend at 0x1f7970e1f40>"
      ]
     },
     "execution_count": 53,
     "metadata": {},
     "output_type": "execute_result"
    },
    {
     "data": {
      "image/png": "[encoded data removed]",
      "text/plain": [
       "<Figure size 1080x576 with 1 Axes>"
      ]
     },
     "metadata": {},
     "output_type": "display_data"
    }
   ],
   "source": [
    "plt.figure(figsize = (15,8))\n",
    "data['Product Material'].value_counts().head(10).plot(kind='bar' , color = '#400082')\n",
    "plt.legend()"
   ]
  },
  {
   "cell_type": "code",
   "execution_count": 54,
   "id": "821f9032",
   "metadata": {},
   "outputs": [
    {
     "data": {
      "text/plain": [
       "<AxesSubplot:>"
      ]
     },
     "execution_count": 54,
     "metadata": {},
     "output_type": "execute_result"
    },
    {
     "data": {
      "image/png": "[encoded data removed]",
      "text/plain": [
       "<Figure size 1800x504 with 1 Axes>"
      ]
     },
     "metadata": {},
     "output_type": "display_data"
    }
   ],
   "source": [
    "plt.figure(figsize=(25,7))\n",
    "all_data['Product Care Instructions'].value_counts().head(10).plot(kind='bar' , color = '#EA4961')"
   ]
  },
  {
   "cell_type": "code",
   "execution_count": 55,
   "id": "e8a52317",
   "metadata": {},
   "outputs": [
    {
     "data": {
      "text/plain": [
       "<AxesSubplot:xlabel='Product Manufacturing Country', ylabel='count'>"
      ]
     },
     "execution_count": 55,
     "metadata": {},
     "output_type": "execute_result"
    },
    {
     "data": {
      "image/png": "[encoded data removed]",
      "text/plain": [
       "<Figure size 1440x504 with 1 Axes>"
      ]
     },
     "metadata": {},
     "output_type": "display_data"
    }
   ],
   "source": [
    "plt.figure(figsize=(20,7))\n",
    "plt.xticks(rotation=90)\n",
    "sns.countplot(x=all_data['Product Manufacturing Country'])"
   ]
  },
  {
   "cell_type": "code",
   "execution_count": 56,
   "id": "57d25a5f",
   "metadata": {},
   "outputs": [
    {
     "data": {
      "text/plain": [
       "<AxesSubplot:xlabel='count', ylabel='Product Care Instructions'>"
      ]
     },
     "execution_count": 56,
     "metadata": {},
     "output_type": "execute_result"
    },
    {
     "data": {
      "image/png": "[encoded data removed]",
      "text/plain": [
       "<Figure size 1224x1224 with 1 Axes>"
      ]
     },
     "metadata": {},
     "output_type": "display_data"
    }
   ],
   "source": [
    "sns.countplot(y='Product Care Instructions', data=all_data, palette='viridis')"
   ]
  },
  {
   "cell_type": "code",
   "execution_count": 57,
   "id": "538b7a44",
   "metadata": {},
   "outputs": [
    {
     "data": {
      "text/plain": [
       "<AxesSubplot:xlabel='count', ylabel='Product Manufacturing Country'>"
      ]
     },
     "execution_count": 57,
     "metadata": {},
     "output_type": "execute_result"
    },
    {
     "data": {
      "image/png": "[encoded data removed]",
      "text/plain": [
       "<Figure size 1224x1224 with 1 Axes>"
      ]
     },
     "metadata": {},
     "output_type": "display_data"
    }
   ],
   "source": [
    "sns.countplot(y='Product Manufacturing Country', data=all_data, palette='viridis')"
   ]
  },
  {
   "cell_type": "code",
   "execution_count": 58,
   "id": "5caafa69",
   "metadata": {},
   "outputs": [],
   "source": [
    "all_data.to_csv('Colthing_imputer.csv')"
   ]
  },
  {
   "cell_type": "code",
   "execution_count": 59,
   "id": "f6f1e81d",
   "metadata": {},
   "outputs": [
    {
     "data": {
      "text/html": [
       "<div>\n",
       "<style scoped>\n",
       "    .dataframe tbody tr th:only-of-type {\n",
       "        vertical-align: middle;\n",
       "    }\n",
       "\n",
       "    .dataframe tbody tr th {\n",
       "        vertical-align: top;\n",
       "    }\n",
       "\n",
       "    .dataframe thead th {\n",
       "        text-align: right;\n",
       "    }\n",
       "</style>\n",
       "<table border=\"1\" class=\"dataframe\">\n",
       "  <thead>\n",
       "    <tr style=\"text-align: right;\">\n",
       "      <th></th>\n",
       "      <th>Unnamed: 0</th>\n",
       "      <th>Product Designer</th>\n",
       "      <th>Product Name</th>\n",
       "      <th>Product Price</th>\n",
       "      <th>Product No</th>\n",
       "      <th>Product Discount</th>\n",
       "      <th>Product Material</th>\n",
       "      <th>Product Lining</th>\n",
       "      <th>Product Care Instructions</th>\n",
       "      <th>Product Manufacturing Country</th>\n",
       "      <th>Product Colour</th>\n",
       "    </tr>\n",
       "  </thead>\n",
       "  <tbody>\n",
       "    <tr>\n",
       "      <th>0</th>\n",
       "      <td>0</td>\n",
       "      <td>VINCE</td>\n",
       "      <td>Dora linen minidress</td>\n",
       "      <td>235.0</td>\n",
       "      <td>P00697841</td>\n",
       "      <td>10% off over €600</td>\n",
       "      <td>100% linen</td>\n",
       "      <td>100% polyester, fully lined</td>\n",
       "      <td>hand wash</td>\n",
       "      <td>USA</td>\n",
       "      <td>Black</td>\n",
       "    </tr>\n",
       "    <tr>\n",
       "      <th>1</th>\n",
       "      <td>1</td>\n",
       "      <td>VINCE</td>\n",
       "      <td>High-rise cropped cotton-blend pants</td>\n",
       "      <td>295.0</td>\n",
       "      <td>P00727516</td>\n",
       "      <td>10% off over €600</td>\n",
       "      <td>66% cotton, 31% viscose, 3% elastane</td>\n",
       "      <td>100% polyester, fully lined</td>\n",
       "      <td>hand wash</td>\n",
       "      <td>China</td>\n",
       "      <td>Black</td>\n",
       "    </tr>\n",
       "    <tr>\n",
       "      <th>2</th>\n",
       "      <td>2</td>\n",
       "      <td>FRAME</td>\n",
       "      <td>Le High cropped straight jeans</td>\n",
       "      <td>199.0</td>\n",
       "      <td>P00683891</td>\n",
       "      <td>10% off over €600</td>\n",
       "      <td>100% cotton</td>\n",
       "      <td>100% polyester, fully lined</td>\n",
       "      <td>machine wash cold</td>\n",
       "      <td>Turkey</td>\n",
       "      <td>Black</td>\n",
       "    </tr>\n",
       "    <tr>\n",
       "      <th>3</th>\n",
       "      <td>3</td>\n",
       "      <td>JARDIN DES ORANGERS</td>\n",
       "      <td>Wool and cashmere sweater midi dress</td>\n",
       "      <td>339.0</td>\n",
       "      <td>P00718713</td>\n",
       "      <td>10% off over €600</td>\n",
       "      <td>70% virgin wool, 30% cashmere</td>\n",
       "      <td>100% polyester, fully lined</td>\n",
       "      <td>hand wash</td>\n",
       "      <td>China</td>\n",
       "      <td>225-41</td>\n",
       "    </tr>\n",
       "    <tr>\n",
       "      <th>4</th>\n",
       "      <td>4</td>\n",
       "      <td>SAINT LAURENT</td>\n",
       "      <td>Embellished satin gown</td>\n",
       "      <td>329.0</td>\n",
       "      <td>P00728419</td>\n",
       "      <td>10% off over €600</td>\n",
       "      <td>100% viscose, material II</td>\n",
       "      <td>100% polyester, fully lined</td>\n",
       "      <td>dry clean</td>\n",
       "      <td>China</td>\n",
       "      <td>Black</td>\n",
       "    </tr>\n",
       "    <tr>\n",
       "      <th>...</th>\n",
       "      <td>...</td>\n",
       "      <td>...</td>\n",
       "      <td>...</td>\n",
       "      <td>...</td>\n",
       "      <td>...</td>\n",
       "      <td>...</td>\n",
       "      <td>...</td>\n",
       "      <td>...</td>\n",
       "      <td>...</td>\n",
       "      <td>...</td>\n",
       "      <td>...</td>\n",
       "    </tr>\n",
       "    <tr>\n",
       "      <th>3045</th>\n",
       "      <td>3045</td>\n",
       "      <td>LORO PIANA</td>\n",
       "      <td>Loran corduroy shirt jacket</td>\n",
       "      <td>329.0</td>\n",
       "      <td>P00703567</td>\n",
       "      <td>10% off over €600</td>\n",
       "      <td>100% cotton</td>\n",
       "      <td>100% cashmere, fully lined</td>\n",
       "      <td>dry clean</td>\n",
       "      <td>China</td>\n",
       "      <td>Black</td>\n",
       "    </tr>\n",
       "    <tr>\n",
       "      <th>3046</th>\n",
       "      <td>3046</td>\n",
       "      <td>ALEX PERRY</td>\n",
       "      <td>Wilde satin crêpe midi dress</td>\n",
       "      <td>329.0</td>\n",
       "      <td>P00704311</td>\n",
       "      <td>10% off over €600</td>\n",
       "      <td>82% triacetate, 18% polyester</td>\n",
       "      <td>100% polyester, fully lined</td>\n",
       "      <td>dry clean</td>\n",
       "      <td>China</td>\n",
       "      <td>Black</td>\n",
       "    </tr>\n",
       "    <tr>\n",
       "      <th>3047</th>\n",
       "      <td>3047</td>\n",
       "      <td>JW ANDERSON</td>\n",
       "      <td>Logo intarsia wool hoodie</td>\n",
       "      <td>635.0</td>\n",
       "      <td>P00701605</td>\n",
       "      <td>10% off over €600</td>\n",
       "      <td>100% wool</td>\n",
       "      <td>100% polyester, fully lined</td>\n",
       "      <td>dry clean</td>\n",
       "      <td>China</td>\n",
       "      <td>Black</td>\n",
       "    </tr>\n",
       "    <tr>\n",
       "      <th>3048</th>\n",
       "      <td>3048</td>\n",
       "      <td>AG JEANS</td>\n",
       "      <td>Girlfriend mid-rise cropped jeans</td>\n",
       "      <td>195.0</td>\n",
       "      <td>P00683515</td>\n",
       "      <td>10% off over €600</td>\n",
       "      <td>99% organic cotton, 1% elastane</td>\n",
       "      <td>100% polyester, fully lined</td>\n",
       "      <td>machine wash at 30 degrees</td>\n",
       "      <td>China</td>\n",
       "      <td>Black</td>\n",
       "    </tr>\n",
       "    <tr>\n",
       "      <th>3049</th>\n",
       "      <td>3049</td>\n",
       "      <td>THE UPSIDE</td>\n",
       "      <td>Delmira mid-rise cropped leggings</td>\n",
       "      <td>85.0</td>\n",
       "      <td>P00700213</td>\n",
       "      <td>10% off over €600</td>\n",
       "      <td>72% polyamide, 28% elastane, material II</td>\n",
       "      <td>100% polyester, fully lined</td>\n",
       "      <td>machine wash cold</td>\n",
       "      <td>China</td>\n",
       "      <td>Black</td>\n",
       "    </tr>\n",
       "  </tbody>\n",
       "</table>\n",
       "<p>3050 rows × 11 columns</p>\n",
       "</div>"
      ],
      "text/plain": [
       "      Unnamed: 0     Product Designer                          Product Name  \\\n",
       "0              0                VINCE                  Dora linen minidress   \n",
       "1              1                VINCE  High-rise cropped cotton-blend pants   \n",
       "2              2                FRAME        Le High cropped straight jeans   \n",
       "3              3  JARDIN DES ORANGERS  Wool and cashmere sweater midi dress   \n",
       "4              4        SAINT LAURENT                Embellished satin gown   \n",
       "...          ...                  ...                                   ...   \n",
       "3045        3045           LORO PIANA           Loran corduroy shirt jacket   \n",
       "3046        3046           ALEX PERRY          Wilde satin crêpe midi dress   \n",
       "3047        3047          JW ANDERSON             Logo intarsia wool hoodie   \n",
       "3048        3048             AG JEANS     Girlfriend mid-rise cropped jeans   \n",
       "3049        3049           THE UPSIDE     Delmira mid-rise cropped leggings   \n",
       "\n",
       "      Product Price Product No   Product Discount  \\\n",
       "0             235.0  P00697841  10% off over €600   \n",
       "1             295.0  P00727516  10% off over €600   \n",
       "2             199.0  P00683891  10% off over €600   \n",
       "3             339.0  P00718713  10% off over €600   \n",
       "4             329.0  P00728419  10% off over €600   \n",
       "...             ...        ...                ...   \n",
       "3045          329.0  P00703567  10% off over €600   \n",
       "3046          329.0  P00704311  10% off over €600   \n",
       "3047          635.0  P00701605  10% off over €600   \n",
       "3048          195.0  P00683515  10% off over €600   \n",
       "3049           85.0  P00700213  10% off over €600   \n",
       "\n",
       "                              Product Material               Product Lining  \\\n",
       "0                                   100% linen  100% polyester, fully lined   \n",
       "1         66% cotton, 31% viscose, 3% elastane  100% polyester, fully lined   \n",
       "2                                  100% cotton  100% polyester, fully lined   \n",
       "3                70% virgin wool, 30% cashmere  100% polyester, fully lined   \n",
       "4                    100% viscose, material II  100% polyester, fully lined   \n",
       "...                                        ...                          ...   \n",
       "3045                               100% cotton   100% cashmere, fully lined   \n",
       "3046             82% triacetate, 18% polyester  100% polyester, fully lined   \n",
       "3047                                 100% wool  100% polyester, fully lined   \n",
       "3048           99% organic cotton, 1% elastane  100% polyester, fully lined   \n",
       "3049  72% polyamide, 28% elastane, material II  100% polyester, fully lined   \n",
       "\n",
       "       Product Care Instructions Product Manufacturing Country Product Colour  \n",
       "0                      hand wash                           USA          Black  \n",
       "1                      hand wash                         China          Black  \n",
       "2              machine wash cold                        Turkey          Black  \n",
       "3                      hand wash                         China         225-41  \n",
       "4                      dry clean                         China          Black  \n",
       "...                          ...                           ...            ...  \n",
       "3045                   dry clean                         China          Black  \n",
       "3046                   dry clean                         China          Black  \n",
       "3047                   dry clean                         China          Black  \n",
       "3048  machine wash at 30 degrees                         China          Black  \n",
       "3049           machine wash cold                         China          Black  \n",
       "\n",
       "[3050 rows x 11 columns]"
      ]
     },
     "execution_count": 59,
     "metadata": {},
     "output_type": "execute_result"
    }
   ],
   "source": [
    "df=pd.read_csv('Colthing_imputer.csv')\n",
    "df"
   ]
  },
  {
   "cell_type": "code",
   "execution_count": 60,
   "id": "fbd28307",
   "metadata": {},
   "outputs": [],
   "source": [
    "df.drop(['Unnamed: 0'],axis=1,inplace=True)"
   ]
  },
  {
   "cell_type": "markdown",
   "id": "8db3aa75",
   "metadata": {},
   "source": [
    "## `Database`"
   ]
  },
  {
   "cell_type": "code",
   "execution_count": 61,
   "id": "bd79c0a0",
   "metadata": {},
   "outputs": [],
   "source": [
    "import sqlite3\n",
    "connection=sqlite3.connect('Clothing_imputer.db')\n",
    "c=connection.cursor()\n",
    "\n",
    "c.execute('CREATE TABLE IF NOT EXISTS clothing(Product_Designe text, Product_Name text, Product_Price number, Product_No text,Product_Discount text,Product_Material text,Product_Lining textProduct_Care_Instructions text, Product_Manufacturing_Country text,Product_Colour text)') \n",
    "\n",
    "connection.commit()"
   ]
  },
  {
   "cell_type": "code",
   "execution_count": 62,
   "id": "f9e17fe7",
   "metadata": {},
   "outputs": [
    {
     "name": "stderr",
     "output_type": "stream",
     "text": [
      "C:\\Users\\ELPOP\\anaconda3\\lib\\site-packages\\pandas\\core\\generic.py:2779: UserWarning: The spaces in these column names will not be changed. In pandas versions < 0.14, spaces were converted to underscores.\n",
      "  sql.to_sql(\n"
     ]
    }
   ],
   "source": [
    "df.to_sql('Clothing_imputer', connection, index=False, if_exists='replace')"
   ]
  },
  {
   "cell_type": "markdown",
   "id": "e033323a",
   "metadata": {},
   "source": [
    "## `Machine learning`"
   ]
  },
  {
   "cell_type": "code",
   "execution_count": 63,
   "id": "f0ebd0c3",
   "metadata": {},
   "outputs": [
    {
     "data": {
      "text/html": [
       "<div>\n",
       "<style scoped>\n",
       "    .dataframe tbody tr th:only-of-type {\n",
       "        vertical-align: middle;\n",
       "    }\n",
       "\n",
       "    .dataframe tbody tr th {\n",
       "        vertical-align: top;\n",
       "    }\n",
       "\n",
       "    .dataframe thead th {\n",
       "        text-align: right;\n",
       "    }\n",
       "</style>\n",
       "<table border=\"1\" class=\"dataframe\">\n",
       "  <thead>\n",
       "    <tr style=\"text-align: right;\">\n",
       "      <th></th>\n",
       "      <th>Product Price</th>\n",
       "      <th>Product Designer_3X1 N.Y.C.</th>\n",
       "      <th>Product Designer_7 FOR ALL MANKIND</th>\n",
       "      <th>Product Designer_A.P.C.</th>\n",
       "      <th>Product Designer_ACNE STUDIOS</th>\n",
       "      <th>Product Designer_AG JEANS</th>\n",
       "      <th>Product Designer_AGOLDE</th>\n",
       "      <th>Product Designer_AGUA BY AGUA BENDITA</th>\n",
       "      <th>Product Designer_ALANUI</th>\n",
       "      <th>Product Designer_ALAÏA</th>\n",
       "      <th>...</th>\n",
       "      <th>Product Colour_White Powder</th>\n",
       "      <th>Product Colour_White Sand</th>\n",
       "      <th>Product Colour_White khaki</th>\n",
       "      <th>Product Colour_White/Multicolor</th>\n",
       "      <th>Product Colour_Winsome Orchid</th>\n",
       "      <th>Product Colour_Wisteria</th>\n",
       "      <th>Product Colour_Yellow</th>\n",
       "      <th>Product Colour_Yellow Ditsy Floral</th>\n",
       "      <th>Product Colour_Zebra Sepia</th>\n",
       "      <th>Product Colour_Zinnia</th>\n",
       "    </tr>\n",
       "  </thead>\n",
       "  <tbody>\n",
       "    <tr>\n",
       "      <th>0</th>\n",
       "      <td>235.0</td>\n",
       "      <td>0</td>\n",
       "      <td>0</td>\n",
       "      <td>0</td>\n",
       "      <td>0</td>\n",
       "      <td>0</td>\n",
       "      <td>0</td>\n",
       "      <td>0</td>\n",
       "      <td>0</td>\n",
       "      <td>0</td>\n",
       "      <td>...</td>\n",
       "      <td>0</td>\n",
       "      <td>0</td>\n",
       "      <td>0</td>\n",
       "      <td>0</td>\n",
       "      <td>0</td>\n",
       "      <td>0</td>\n",
       "      <td>0</td>\n",
       "      <td>0</td>\n",
       "      <td>0</td>\n",
       "      <td>0</td>\n",
       "    </tr>\n",
       "    <tr>\n",
       "      <th>1</th>\n",
       "      <td>295.0</td>\n",
       "      <td>0</td>\n",
       "      <td>0</td>\n",
       "      <td>0</td>\n",
       "      <td>0</td>\n",
       "      <td>0</td>\n",
       "      <td>0</td>\n",
       "      <td>0</td>\n",
       "      <td>0</td>\n",
       "      <td>0</td>\n",
       "      <td>...</td>\n",
       "      <td>0</td>\n",
       "      <td>0</td>\n",
       "      <td>0</td>\n",
       "      <td>0</td>\n",
       "      <td>0</td>\n",
       "      <td>0</td>\n",
       "      <td>0</td>\n",
       "      <td>0</td>\n",
       "      <td>0</td>\n",
       "      <td>0</td>\n",
       "    </tr>\n",
       "    <tr>\n",
       "      <th>2</th>\n",
       "      <td>199.0</td>\n",
       "      <td>0</td>\n",
       "      <td>0</td>\n",
       "      <td>0</td>\n",
       "      <td>0</td>\n",
       "      <td>0</td>\n",
       "      <td>0</td>\n",
       "      <td>0</td>\n",
       "      <td>0</td>\n",
       "      <td>0</td>\n",
       "      <td>...</td>\n",
       "      <td>0</td>\n",
       "      <td>0</td>\n",
       "      <td>0</td>\n",
       "      <td>0</td>\n",
       "      <td>0</td>\n",
       "      <td>0</td>\n",
       "      <td>0</td>\n",
       "      <td>0</td>\n",
       "      <td>0</td>\n",
       "      <td>0</td>\n",
       "    </tr>\n",
       "    <tr>\n",
       "      <th>3</th>\n",
       "      <td>339.0</td>\n",
       "      <td>0</td>\n",
       "      <td>0</td>\n",
       "      <td>0</td>\n",
       "      <td>0</td>\n",
       "      <td>0</td>\n",
       "      <td>0</td>\n",
       "      <td>0</td>\n",
       "      <td>0</td>\n",
       "      <td>0</td>\n",
       "      <td>...</td>\n",
       "      <td>0</td>\n",
       "      <td>0</td>\n",
       "      <td>0</td>\n",
       "      <td>0</td>\n",
       "      <td>0</td>\n",
       "      <td>0</td>\n",
       "      <td>0</td>\n",
       "      <td>0</td>\n",
       "      <td>0</td>\n",
       "      <td>0</td>\n",
       "    </tr>\n",
       "    <tr>\n",
       "      <th>4</th>\n",
       "      <td>329.0</td>\n",
       "      <td>0</td>\n",
       "      <td>0</td>\n",
       "      <td>0</td>\n",
       "      <td>0</td>\n",
       "      <td>0</td>\n",
       "      <td>0</td>\n",
       "      <td>0</td>\n",
       "      <td>0</td>\n",
       "      <td>0</td>\n",
       "      <td>...</td>\n",
       "      <td>0</td>\n",
       "      <td>0</td>\n",
       "      <td>0</td>\n",
       "      <td>0</td>\n",
       "      <td>0</td>\n",
       "      <td>0</td>\n",
       "      <td>0</td>\n",
       "      <td>0</td>\n",
       "      <td>0</td>\n",
       "      <td>0</td>\n",
       "    </tr>\n",
       "    <tr>\n",
       "      <th>...</th>\n",
       "      <td>...</td>\n",
       "      <td>...</td>\n",
       "      <td>...</td>\n",
       "      <td>...</td>\n",
       "      <td>...</td>\n",
       "      <td>...</td>\n",
       "      <td>...</td>\n",
       "      <td>...</td>\n",
       "      <td>...</td>\n",
       "      <td>...</td>\n",
       "      <td>...</td>\n",
       "      <td>...</td>\n",
       "      <td>...</td>\n",
       "      <td>...</td>\n",
       "      <td>...</td>\n",
       "      <td>...</td>\n",
       "      <td>...</td>\n",
       "      <td>...</td>\n",
       "      <td>...</td>\n",
       "      <td>...</td>\n",
       "      <td>...</td>\n",
       "    </tr>\n",
       "    <tr>\n",
       "      <th>3045</th>\n",
       "      <td>329.0</td>\n",
       "      <td>0</td>\n",
       "      <td>0</td>\n",
       "      <td>0</td>\n",
       "      <td>0</td>\n",
       "      <td>0</td>\n",
       "      <td>0</td>\n",
       "      <td>0</td>\n",
       "      <td>0</td>\n",
       "      <td>0</td>\n",
       "      <td>...</td>\n",
       "      <td>0</td>\n",
       "      <td>0</td>\n",
       "      <td>0</td>\n",
       "      <td>0</td>\n",
       "      <td>0</td>\n",
       "      <td>0</td>\n",
       "      <td>0</td>\n",
       "      <td>0</td>\n",
       "      <td>0</td>\n",
       "      <td>0</td>\n",
       "    </tr>\n",
       "    <tr>\n",
       "      <th>3046</th>\n",
       "      <td>329.0</td>\n",
       "      <td>0</td>\n",
       "      <td>0</td>\n",
       "      <td>0</td>\n",
       "      <td>0</td>\n",
       "      <td>0</td>\n",
       "      <td>0</td>\n",
       "      <td>0</td>\n",
       "      <td>0</td>\n",
       "      <td>0</td>\n",
       "      <td>...</td>\n",
       "      <td>0</td>\n",
       "      <td>0</td>\n",
       "      <td>0</td>\n",
       "      <td>0</td>\n",
       "      <td>0</td>\n",
       "      <td>0</td>\n",
       "      <td>0</td>\n",
       "      <td>0</td>\n",
       "      <td>0</td>\n",
       "      <td>0</td>\n",
       "    </tr>\n",
       "    <tr>\n",
       "      <th>3047</th>\n",
       "      <td>635.0</td>\n",
       "      <td>0</td>\n",
       "      <td>0</td>\n",
       "      <td>0</td>\n",
       "      <td>0</td>\n",
       "      <td>0</td>\n",
       "      <td>0</td>\n",
       "      <td>0</td>\n",
       "      <td>0</td>\n",
       "      <td>0</td>\n",
       "      <td>...</td>\n",
       "      <td>0</td>\n",
       "      <td>0</td>\n",
       "      <td>0</td>\n",
       "      <td>0</td>\n",
       "      <td>0</td>\n",
       "      <td>0</td>\n",
       "      <td>0</td>\n",
       "      <td>0</td>\n",
       "      <td>0</td>\n",
       "      <td>0</td>\n",
       "    </tr>\n",
       "    <tr>\n",
       "      <th>3048</th>\n",
       "      <td>195.0</td>\n",
       "      <td>0</td>\n",
       "      <td>0</td>\n",
       "      <td>0</td>\n",
       "      <td>0</td>\n",
       "      <td>1</td>\n",
       "      <td>0</td>\n",
       "      <td>0</td>\n",
       "      <td>0</td>\n",
       "      <td>0</td>\n",
       "      <td>...</td>\n",
       "      <td>0</td>\n",
       "      <td>0</td>\n",
       "      <td>0</td>\n",
       "      <td>0</td>\n",
       "      <td>0</td>\n",
       "      <td>0</td>\n",
       "      <td>0</td>\n",
       "      <td>0</td>\n",
       "      <td>0</td>\n",
       "      <td>0</td>\n",
       "    </tr>\n",
       "    <tr>\n",
       "      <th>3049</th>\n",
       "      <td>85.0</td>\n",
       "      <td>0</td>\n",
       "      <td>0</td>\n",
       "      <td>0</td>\n",
       "      <td>0</td>\n",
       "      <td>0</td>\n",
       "      <td>0</td>\n",
       "      <td>0</td>\n",
       "      <td>0</td>\n",
       "      <td>0</td>\n",
       "      <td>...</td>\n",
       "      <td>0</td>\n",
       "      <td>0</td>\n",
       "      <td>0</td>\n",
       "      <td>0</td>\n",
       "      <td>0</td>\n",
       "      <td>0</td>\n",
       "      <td>0</td>\n",
       "      <td>0</td>\n",
       "      <td>0</td>\n",
       "      <td>0</td>\n",
       "    </tr>\n",
       "  </tbody>\n",
       "</table>\n",
       "<p>3050 rows × 6876 columns</p>\n",
       "</div>"
      ],
      "text/plain": [
       "      Product Price  Product Designer_3X1 N.Y.C.  \\\n",
       "0             235.0                            0   \n",
       "1             295.0                            0   \n",
       "2             199.0                            0   \n",
       "3             339.0                            0   \n",
       "4             329.0                            0   \n",
       "...             ...                          ...   \n",
       "3045          329.0                            0   \n",
       "3046          329.0                            0   \n",
       "3047          635.0                            0   \n",
       "3048          195.0                            0   \n",
       "3049           85.0                            0   \n",
       "\n",
       "      Product Designer_7 FOR ALL MANKIND  Product Designer_A.P.C.  \\\n",
       "0                                      0                        0   \n",
       "1                                      0                        0   \n",
       "2                                      0                        0   \n",
       "3                                      0                        0   \n",
       "4                                      0                        0   \n",
       "...                                  ...                      ...   \n",
       "3045                                   0                        0   \n",
       "3046                                   0                        0   \n",
       "3047                                   0                        0   \n",
       "3048                                   0                        0   \n",
       "3049                                   0                        0   \n",
       "\n",
       "      Product Designer_ACNE STUDIOS  Product Designer_AG JEANS  \\\n",
       "0                                 0                          0   \n",
       "1                                 0                          0   \n",
       "2                                 0                          0   \n",
       "3                                 0                          0   \n",
       "4                                 0                          0   \n",
       "...                             ...                        ...   \n",
       "3045                              0                          0   \n",
       "3046                              0                          0   \n",
       "3047                              0                          0   \n",
       "3048                              0                          1   \n",
       "3049                              0                          0   \n",
       "\n",
       "      Product Designer_AGOLDE  Product Designer_AGUA BY AGUA BENDITA  \\\n",
       "0                           0                                      0   \n",
       "1                           0                                      0   \n",
       "2                           0                                      0   \n",
       "3                           0                                      0   \n",
       "4                           0                                      0   \n",
       "...                       ...                                    ...   \n",
       "3045                        0                                      0   \n",
       "3046                        0                                      0   \n",
       "3047                        0                                      0   \n",
       "3048                        0                                      0   \n",
       "3049                        0                                      0   \n",
       "\n",
       "      Product Designer_ALANUI  Product Designer_ALAÏA  ...  \\\n",
       "0                           0                       0  ...   \n",
       "1                           0                       0  ...   \n",
       "2                           0                       0  ...   \n",
       "3                           0                       0  ...   \n",
       "4                           0                       0  ...   \n",
       "...                       ...                     ...  ...   \n",
       "3045                        0                       0  ...   \n",
       "3046                        0                       0  ...   \n",
       "3047                        0                       0  ...   \n",
       "3048                        0                       0  ...   \n",
       "3049                        0                       0  ...   \n",
       "\n",
       "      Product Colour_White Powder  Product Colour_White Sand  \\\n",
       "0                               0                          0   \n",
       "1                               0                          0   \n",
       "2                               0                          0   \n",
       "3                               0                          0   \n",
       "4                               0                          0   \n",
       "...                           ...                        ...   \n",
       "3045                            0                          0   \n",
       "3046                            0                          0   \n",
       "3047                            0                          0   \n",
       "3048                            0                          0   \n",
       "3049                            0                          0   \n",
       "\n",
       "      Product Colour_White khaki  Product Colour_White/Multicolor  \\\n",
       "0                              0                                0   \n",
       "1                              0                                0   \n",
       "2                              0                                0   \n",
       "3                              0                                0   \n",
       "4                              0                                0   \n",
       "...                          ...                              ...   \n",
       "3045                           0                                0   \n",
       "3046                           0                                0   \n",
       "3047                           0                                0   \n",
       "3048                           0                                0   \n",
       "3049                           0                                0   \n",
       "\n",
       "      Product Colour_Winsome Orchid  Product Colour_Wisteria  \\\n",
       "0                                 0                        0   \n",
       "1                                 0                        0   \n",
       "2                                 0                        0   \n",
       "3                                 0                        0   \n",
       "4                                 0                        0   \n",
       "...                             ...                      ...   \n",
       "3045                              0                        0   \n",
       "3046                              0                        0   \n",
       "3047                              0                        0   \n",
       "3048                              0                        0   \n",
       "3049                              0                        0   \n",
       "\n",
       "      Product Colour_Yellow  Product Colour_Yellow Ditsy Floral  \\\n",
       "0                         0                                   0   \n",
       "1                         0                                   0   \n",
       "2                         0                                   0   \n",
       "3                         0                                   0   \n",
       "4                         0                                   0   \n",
       "...                     ...                                 ...   \n",
       "3045                      0                                   0   \n",
       "3046                      0                                   0   \n",
       "3047                      0                                   0   \n",
       "3048                      0                                   0   \n",
       "3049                      0                                   0   \n",
       "\n",
       "      Product Colour_Zebra Sepia  Product Colour_Zinnia  \n",
       "0                              0                      0  \n",
       "1                              0                      0  \n",
       "2                              0                      0  \n",
       "3                              0                      0  \n",
       "4                              0                      0  \n",
       "...                          ...                    ...  \n",
       "3045                           0                      0  \n",
       "3046                           0                      0  \n",
       "3047                           0                      0  \n",
       "3048                           0                      0  \n",
       "3049                           0                      0  \n",
       "\n",
       "[3050 rows x 6876 columns]"
      ]
     },
     "execution_count": 63,
     "metadata": {},
     "output_type": "execute_result"
    }
   ],
   "source": [
    "\n",
    "df = pd.get_dummies(df, columns=['Product Designer','Product Name','Product No','Product Discount','Product Material','Product Lining','Product Care Instructions','Product Manufacturing Country','Product Colour']\n",
    "       , drop_first=True)\n",
    "df\n"
   ]
  },
  {
   "cell_type": "code",
   "execution_count": null,
   "id": "4b0de1db",
   "metadata": {},
   "outputs": [],
   "source": []
  },
  {
   "cell_type": "code",
   "execution_count": 64,
   "id": "c067acb1",
   "metadata": {},
   "outputs": [],
   "source": [
    "from sklearn.model_selection import train_test_split\n",
    "x= df.drop('Product Price', axis=1)\n",
    "y = df['Product Price']"
   ]
  },
  {
   "cell_type": "code",
   "execution_count": 65,
   "id": "a7717e0a",
   "metadata": {},
   "outputs": [],
   "source": [
    "x_train, x_test, y_train, y_test = train_test_split(x, y, test_size=0.2)\n",
    "from sklearn.preprocessing import StandardScaler\n",
    "sc = StandardScaler()\n",
    "x_train = sc.fit_transform(x_train)\n",
    "x_test = sc.transform(x_test)"
   ]
  },
  {
   "cell_type": "code",
   "execution_count": null,
   "id": "2ea6d68c",
   "metadata": {},
   "outputs": [],
   "source": [
    "from sklearn.linear_model import LinearRegression \n",
    "from sklearn.neighbors import KNeighborsRegressor\n",
    "from sklearn.tree import DecisionTreeRegressor\n",
    "from sklearn.svm import SVR\n",
    "from sklearn.ensemble import RandomForestRegressor \n",
    "from xgboost import XGBRegressor\n",
    "\n",
    "from sklearn.metrics import mean_squared_error, mean_absolute_error, r2_score\n",
    "\n",
    "models = [\n",
    "     LinearRegression(),\n",
    "     KNeighborsRegressor(),\n",
    "     DecisionTreeRegressor(),\n",
    "     SVR(),\n",
    "     RandomForestRegressor(), \n",
    "     XGBRegressor()\n",
    "]\n",
    "\n",
    "for model in models:  \n",
    "     print(model)\n",
    "     model.fit(x_train, y_train)\n",
    "     y_pred = model.predict(x_test)\n",
    "     print(f'R2: {r2_score(y_test, y_pred) * 100}')\n",
    "     print(f'MAE: {mean_absolute_error(y_test, y_pred)}')\n",
    "     print(f'RMSE: {np.sqrt(mean_squared_error(y_test, y_pred))}\\n---------')"
   ]
  },
  {
   "cell_type": "code",
   "execution_count": null,
   "id": "ffce6710",
   "metadata": {},
   "outputs": [],
   "source": []
  }
 ],
 "metadata": {
  "kernelspec": {
   "display_name": "Python 3",
   "language": "python",
   "name": "python3"
  },
  "language_info": {
   "codemirror_mode": {
    "name": "ipython",
    "version": 3
   },
   "file_extension": ".py",
   "mimetype": "text/x-python",
   "name": "python",
   "nbconvert_exporter": "python",
   "pygments_lexer": "ipython3",
   "version": "3.8.8"
  }
 },
 "nbformat": 4,
 "nbformat_minor": 5
}
